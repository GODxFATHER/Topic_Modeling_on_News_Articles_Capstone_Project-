{
  "nbformat": 4,
  "nbformat_minor": 0,
  "metadata": {
    "kernelspec": {
      "display_name": "Python 3",
      "language": "python",
      "name": "python3"
    },
    "language_info": {
      "codemirror_mode": {
        "name": "ipython",
        "version": 3
      },
      "file_extension": ".py",
      "mimetype": "text/x-python",
      "name": "python",
      "nbconvert_exporter": "python",
      "pygments_lexer": "ipython3",
      "version": "3.6.6"
    },
    "colab": {
      "name": "Topic Modeling on News Articles - Capstone Project.ipynb",
      "provenance": [],
      "collapsed_sections": [
        "Y06xIdG26kRF",
        "AlLxAtlziMbP",
        "s-wH4lw-PdsT"
      ],
      "include_colab_link": true
    }
  },
  "cells": [
    {
      "cell_type": "markdown",
      "metadata": {
        "id": "view-in-github",
        "colab_type": "text"
      },
      "source": [
        "<a href=\"https://colab.research.google.com/github/GODxFATHER/Topic_Modeling_on_News_Articles_Capstone_Project-/blob/main/Topic_Modeling_on_News_Articles_Capstone_Project.ipynb\" target=\"_parent\"><img src=\"https://colab.research.google.com/assets/colab-badge.svg\" alt=\"Open In Colab\"/></a>"
      ]
    },
    {
      "cell_type": "markdown",
      "metadata": {
        "id": "tOGC-qoyhJeX"
      },
      "source": [
        "# <b><u> Project Title : Extraction/identification of major topics & themes discussed in news articles. </u></b>"
      ]
    },
    {
      "cell_type": "markdown",
      "metadata": {
        "id": "Y06xIdG26kRF"
      },
      "source": [
        "## <b> Problem Description </b>\n",
        "\n",
        "### In this project your task is to identify major themes/topics across a collection of BBC news articles. You can use clustering algorithms such as Latent Dirichlet Allocation (LDA), Latent Semantic Analysis (LSA) etc."
      ]
    },
    {
      "cell_type": "markdown",
      "metadata": {
        "id": "AlLxAtlziMbP"
      },
      "source": [
        "## <b> Data Description </b>\n",
        "\n",
        "### The dataset contains a set of news articles for each major segment consisting of business, entertainment, politics, sports and technology. You need to create an aggregate dataset of all the news articles and perform topic modeling on this dataset. Verify whether these topics correspond to the different tags available."
      ]
    },
    {
      "cell_type": "code",
      "metadata": {
        "id": "dByMsuzT8Tnw"
      },
      "source": [
        "# Importing the libraries \n",
        "\n",
        "import numpy as np\n",
        "import pandas as pd\n",
        "import matplotlib.pyplot as plt\n",
        "import matplotlib\n",
        "import seaborn as sns\n",
        "import os\n",
        "%matplotlib inline"
      ],
      "execution_count": 2,
      "outputs": []
    },
    {
      "cell_type": "code",
      "execution_count": 3,
      "metadata": {
        "id": "gt14dZ1h1iXd"
      },
      "outputs": [],
      "source": [
        "# Configuration for matplotlib graphs\n",
        "\n",
        "matplotlib.rcParams['font.size'] = 12\n",
        "matplotlib.rcParams['figure.figsize'] = (13, 7)\n",
        "matplotlib.rcParams['figure.facecolor'] = '#00000000'\n",
        "sns.set_style('darkgrid');"
      ]
    },
    {
      "cell_type": "code",
      "execution_count": 4,
      "metadata": {
        "id": "ubuuBUSiQXP4",
        "colab": {
          "base_uri": "https://localhost:8080/"
        },
        "outputId": "951a1bf4-2351-44f0-e76d-7dbc628dbad6"
      },
      "outputs": [
        {
          "output_type": "stream",
          "name": "stdout",
          "text": [
            "Mounted at /content/drive\n"
          ]
        }
      ],
      "source": [
        "from google.colab import drive\n",
        "drive.mount('/content/drive')"
      ]
    },
    {
      "cell_type": "code",
      "execution_count": 5,
      "metadata": {
        "id": "JCblK4-4Lknt"
      },
      "outputs": [],
      "source": [
        "# Loading the dataset in pandas \n",
        "path = '/content/drive/MyDrive/DATA_FILES/bbc'"
      ]
    },
    {
      "cell_type": "code",
      "source": [
        "News=[]\n",
        "Type=[]\n",
        "\n",
        "# path=\"/content/drive/MyDrive/Almabetter/Cohort Aravali/Module 4/Capstone-4/Topic Modeling on BBC News Articles/bbc\"\n",
        "folders=[\"business\",\"entertainment\",\"politics\",\"sport\",\"tech\"] \n",
        "for i in folders:\n",
        "    files=os.listdir(path+'/'+i)\n",
        "    for text_file in files:\n",
        "        file_path=path + '/'+i+'/'+text_file\n",
        "        with open(file_path,'rb') as f:\n",
        "            data=f.read()\n",
        "        News.append(data)\n",
        "        Type.append(i)\n",
        "      \n",
        "\n",
        "data={'news':News,'type':Type}\n",
        "df = pd.DataFrame(data)"
      ],
      "metadata": {
        "id": "daImwESJJgx_"
      },
      "execution_count": 6,
      "outputs": []
    },
    {
      "cell_type": "code",
      "execution_count": 7,
      "metadata": {
        "id": "tuP3WfF9Q9n5",
        "colab": {
          "base_uri": "https://localhost:8080/",
          "height": 0
        },
        "outputId": "3b631beb-ae87-496c-dfde-6ca5654d0ba1"
      },
      "outputs": [
        {
          "output_type": "execute_result",
          "data": {
            "text/plain": [
              "                                                news      type\n",
              "0  b'Sluggish economy hits German jobs\\n\\nThe num...  business\n",
              "1  b'Dollar gains on Greenspan speech\\n\\nThe doll...  business\n",
              "2  b'China keeps tight rein on credit\\n\\nChina\\'s...  business\n",
              "3  b'Call centre users \\'lose patience\\'\\n\\nCusto...  business\n",
              "4  b'High fuel prices hit BA\\'s profits\\n\\nBritis...  business"
            ],
            "text/html": [
              "\n",
              "  <div id=\"df-cb1139e3-a0bf-44f2-856a-04d22589fc39\">\n",
              "    <div class=\"colab-df-container\">\n",
              "      <div>\n",
              "<style scoped>\n",
              "    .dataframe tbody tr th:only-of-type {\n",
              "        vertical-align: middle;\n",
              "    }\n",
              "\n",
              "    .dataframe tbody tr th {\n",
              "        vertical-align: top;\n",
              "    }\n",
              "\n",
              "    .dataframe thead th {\n",
              "        text-align: right;\n",
              "    }\n",
              "</style>\n",
              "<table border=\"1\" class=\"dataframe\">\n",
              "  <thead>\n",
              "    <tr style=\"text-align: right;\">\n",
              "      <th></th>\n",
              "      <th>news</th>\n",
              "      <th>type</th>\n",
              "    </tr>\n",
              "  </thead>\n",
              "  <tbody>\n",
              "    <tr>\n",
              "      <th>0</th>\n",
              "      <td>b'Sluggish economy hits German jobs\\n\\nThe num...</td>\n",
              "      <td>business</td>\n",
              "    </tr>\n",
              "    <tr>\n",
              "      <th>1</th>\n",
              "      <td>b'Dollar gains on Greenspan speech\\n\\nThe doll...</td>\n",
              "      <td>business</td>\n",
              "    </tr>\n",
              "    <tr>\n",
              "      <th>2</th>\n",
              "      <td>b'China keeps tight rein on credit\\n\\nChina\\'s...</td>\n",
              "      <td>business</td>\n",
              "    </tr>\n",
              "    <tr>\n",
              "      <th>3</th>\n",
              "      <td>b'Call centre users \\'lose patience\\'\\n\\nCusto...</td>\n",
              "      <td>business</td>\n",
              "    </tr>\n",
              "    <tr>\n",
              "      <th>4</th>\n",
              "      <td>b'High fuel prices hit BA\\'s profits\\n\\nBritis...</td>\n",
              "      <td>business</td>\n",
              "    </tr>\n",
              "  </tbody>\n",
              "</table>\n",
              "</div>\n",
              "      <button class=\"colab-df-convert\" onclick=\"convertToInteractive('df-cb1139e3-a0bf-44f2-856a-04d22589fc39')\"\n",
              "              title=\"Convert this dataframe to an interactive table.\"\n",
              "              style=\"display:none;\">\n",
              "        \n",
              "  <svg xmlns=\"http://www.w3.org/2000/svg\" height=\"24px\"viewBox=\"0 0 24 24\"\n",
              "       width=\"24px\">\n",
              "    <path d=\"M0 0h24v24H0V0z\" fill=\"none\"/>\n",
              "    <path d=\"M18.56 5.44l.94 2.06.94-2.06 2.06-.94-2.06-.94-.94-2.06-.94 2.06-2.06.94zm-11 1L8.5 8.5l.94-2.06 2.06-.94-2.06-.94L8.5 2.5l-.94 2.06-2.06.94zm10 10l.94 2.06.94-2.06 2.06-.94-2.06-.94-.94-2.06-.94 2.06-2.06.94z\"/><path d=\"M17.41 7.96l-1.37-1.37c-.4-.4-.92-.59-1.43-.59-.52 0-1.04.2-1.43.59L10.3 9.45l-7.72 7.72c-.78.78-.78 2.05 0 2.83L4 21.41c.39.39.9.59 1.41.59.51 0 1.02-.2 1.41-.59l7.78-7.78 2.81-2.81c.8-.78.8-2.07 0-2.86zM5.41 20L4 18.59l7.72-7.72 1.47 1.35L5.41 20z\"/>\n",
              "  </svg>\n",
              "      </button>\n",
              "      \n",
              "  <style>\n",
              "    .colab-df-container {\n",
              "      display:flex;\n",
              "      flex-wrap:wrap;\n",
              "      gap: 12px;\n",
              "    }\n",
              "\n",
              "    .colab-df-convert {\n",
              "      background-color: #E8F0FE;\n",
              "      border: none;\n",
              "      border-radius: 50%;\n",
              "      cursor: pointer;\n",
              "      display: none;\n",
              "      fill: #1967D2;\n",
              "      height: 32px;\n",
              "      padding: 0 0 0 0;\n",
              "      width: 32px;\n",
              "    }\n",
              "\n",
              "    .colab-df-convert:hover {\n",
              "      background-color: #E2EBFA;\n",
              "      box-shadow: 0px 1px 2px rgba(60, 64, 67, 0.3), 0px 1px 3px 1px rgba(60, 64, 67, 0.15);\n",
              "      fill: #174EA6;\n",
              "    }\n",
              "\n",
              "    [theme=dark] .colab-df-convert {\n",
              "      background-color: #3B4455;\n",
              "      fill: #D2E3FC;\n",
              "    }\n",
              "\n",
              "    [theme=dark] .colab-df-convert:hover {\n",
              "      background-color: #434B5C;\n",
              "      box-shadow: 0px 1px 3px 1px rgba(0, 0, 0, 0.15);\n",
              "      filter: drop-shadow(0px 1px 2px rgba(0, 0, 0, 0.3));\n",
              "      fill: #FFFFFF;\n",
              "    }\n",
              "  </style>\n",
              "\n",
              "      <script>\n",
              "        const buttonEl =\n",
              "          document.querySelector('#df-cb1139e3-a0bf-44f2-856a-04d22589fc39 button.colab-df-convert');\n",
              "        buttonEl.style.display =\n",
              "          google.colab.kernel.accessAllowed ? 'block' : 'none';\n",
              "\n",
              "        async function convertToInteractive(key) {\n",
              "          const element = document.querySelector('#df-cb1139e3-a0bf-44f2-856a-04d22589fc39');\n",
              "          const dataTable =\n",
              "            await google.colab.kernel.invokeFunction('convertToInteractive',\n",
              "                                                     [key], {});\n",
              "          if (!dataTable) return;\n",
              "\n",
              "          const docLinkHtml = 'Like what you see? Visit the ' +\n",
              "            '<a target=\"_blank\" href=https://colab.research.google.com/notebooks/data_table.ipynb>data table notebook</a>'\n",
              "            + ' to learn more about interactive tables.';\n",
              "          element.innerHTML = '';\n",
              "          dataTable['output_type'] = 'display_data';\n",
              "          await google.colab.output.renderOutput(dataTable, element);\n",
              "          const docLink = document.createElement('div');\n",
              "          docLink.innerHTML = docLinkHtml;\n",
              "          element.appendChild(docLink);\n",
              "        }\n",
              "      </script>\n",
              "    </div>\n",
              "  </div>\n",
              "  "
            ]
          },
          "metadata": {},
          "execution_count": 7
        }
      ],
      "source": [
        "df.head()"
      ]
    },
    {
      "cell_type": "code",
      "source": [
        "df.info()"
      ],
      "metadata": {
        "id": "TGeJcdGFKFIK",
        "colab": {
          "base_uri": "https://localhost:8080/"
        },
        "outputId": "c657404c-71b0-40dc-9055-c4fcf7b1422b"
      },
      "execution_count": 8,
      "outputs": [
        {
          "output_type": "stream",
          "name": "stdout",
          "text": [
            "<class 'pandas.core.frame.DataFrame'>\n",
            "RangeIndex: 2225 entries, 0 to 2224\n",
            "Data columns (total 2 columns):\n",
            " #   Column  Non-Null Count  Dtype \n",
            "---  ------  --------------  ----- \n",
            " 0   news    2225 non-null   object\n",
            " 1   type    2225 non-null   object\n",
            "dtypes: object(2)\n",
            "memory usage: 34.9+ KB\n"
          ]
        }
      ]
    },
    {
      "cell_type": "code",
      "source": [
        "#removing duplicates\n",
        "df=df.drop_duplicates()"
      ],
      "metadata": {
        "id": "wnU10dXSOZ4w"
      },
      "execution_count": 9,
      "outputs": []
    },
    {
      "cell_type": "code",
      "source": [
        "df.info()"
      ],
      "metadata": {
        "id": "fUJRwxjUOwaU",
        "colab": {
          "base_uri": "https://localhost:8080/"
        },
        "outputId": "216f389d-da69-4d8e-adc7-5d162adbae66"
      },
      "execution_count": 10,
      "outputs": [
        {
          "output_type": "stream",
          "name": "stdout",
          "text": [
            "<class 'pandas.core.frame.DataFrame'>\n",
            "Int64Index: 2127 entries, 0 to 2224\n",
            "Data columns (total 2 columns):\n",
            " #   Column  Non-Null Count  Dtype \n",
            "---  ------  --------------  ----- \n",
            " 0   news    2127 non-null   object\n",
            " 1   type    2127 non-null   object\n",
            "dtypes: object(2)\n",
            "memory usage: 49.9+ KB\n"
          ]
        }
      ]
    },
    {
      "cell_type": "code",
      "source": [
        "df.type.value_counts(normalize=True)*100"
      ],
      "metadata": {
        "id": "zpKZcmJ_O0Hh",
        "colab": {
          "base_uri": "https://localhost:8080/"
        },
        "outputId": "0619cc88-a721-4794-b0a1-913c29b135f5"
      },
      "execution_count": 11,
      "outputs": [
        {
          "output_type": "execute_result",
          "data": {
            "text/plain": [
              "sport            23.742360\n",
              "business         23.648331\n",
              "politics         18.946874\n",
              "entertainment    17.348378\n",
              "tech             16.314057\n",
              "Name: type, dtype: float64"
            ]
          },
          "metadata": {},
          "execution_count": 11
        }
      ]
    },
    {
      "cell_type": "markdown",
      "source": [
        "### **Text Prepocessing**  "
      ],
      "metadata": {
        "id": "s-wH4lw-PdsT"
      }
    },
    {
      "cell_type": "code",
      "source": [
        "# Converting column into astring\n",
        "df['news'] = df['news'].astype('str') "
      ],
      "metadata": {
        "id": "RQWA1YwWTLkZ",
        "colab": {
          "base_uri": "https://localhost:8080/"
        },
        "outputId": "89682d73-e5a6-40b8-f418-62f8075d7788"
      },
      "execution_count": 12,
      "outputs": [
        {
          "output_type": "stream",
          "name": "stderr",
          "text": [
            "/usr/local/lib/python3.7/dist-packages/ipykernel_launcher.py:2: SettingWithCopyWarning: \n",
            "A value is trying to be set on a copy of a slice from a DataFrame.\n",
            "Try using .loc[row_indexer,col_indexer] = value instead\n",
            "\n",
            "See the caveats in the documentation: https://pandas.pydata.org/pandas-docs/stable/user_guide/indexing.html#returning-a-view-versus-a-copy\n",
            "  \n"
          ]
        }
      ]
    },
    {
      "cell_type": "code",
      "source": [
        " df.head(1)"
      ],
      "metadata": {
        "id": "qWshFbt3PBRm",
        "colab": {
          "base_uri": "https://localhost:8080/",
          "height": 0
        },
        "outputId": "c3837f84-4bc7-4f3e-98d1-787709d43297"
      },
      "execution_count": 13,
      "outputs": [
        {
          "output_type": "execute_result",
          "data": {
            "text/plain": [
              "                                                news      type\n",
              "0  b'Sluggish economy hits German jobs\\n\\nThe num...  business"
            ],
            "text/html": [
              "\n",
              "  <div id=\"df-452e5acf-2c54-44da-9e4d-cae19443256e\">\n",
              "    <div class=\"colab-df-container\">\n",
              "      <div>\n",
              "<style scoped>\n",
              "    .dataframe tbody tr th:only-of-type {\n",
              "        vertical-align: middle;\n",
              "    }\n",
              "\n",
              "    .dataframe tbody tr th {\n",
              "        vertical-align: top;\n",
              "    }\n",
              "\n",
              "    .dataframe thead th {\n",
              "        text-align: right;\n",
              "    }\n",
              "</style>\n",
              "<table border=\"1\" class=\"dataframe\">\n",
              "  <thead>\n",
              "    <tr style=\"text-align: right;\">\n",
              "      <th></th>\n",
              "      <th>news</th>\n",
              "      <th>type</th>\n",
              "    </tr>\n",
              "  </thead>\n",
              "  <tbody>\n",
              "    <tr>\n",
              "      <th>0</th>\n",
              "      <td>b'Sluggish economy hits German jobs\\n\\nThe num...</td>\n",
              "      <td>business</td>\n",
              "    </tr>\n",
              "  </tbody>\n",
              "</table>\n",
              "</div>\n",
              "      <button class=\"colab-df-convert\" onclick=\"convertToInteractive('df-452e5acf-2c54-44da-9e4d-cae19443256e')\"\n",
              "              title=\"Convert this dataframe to an interactive table.\"\n",
              "              style=\"display:none;\">\n",
              "        \n",
              "  <svg xmlns=\"http://www.w3.org/2000/svg\" height=\"24px\"viewBox=\"0 0 24 24\"\n",
              "       width=\"24px\">\n",
              "    <path d=\"M0 0h24v24H0V0z\" fill=\"none\"/>\n",
              "    <path d=\"M18.56 5.44l.94 2.06.94-2.06 2.06-.94-2.06-.94-.94-2.06-.94 2.06-2.06.94zm-11 1L8.5 8.5l.94-2.06 2.06-.94-2.06-.94L8.5 2.5l-.94 2.06-2.06.94zm10 10l.94 2.06.94-2.06 2.06-.94-2.06-.94-.94-2.06-.94 2.06-2.06.94z\"/><path d=\"M17.41 7.96l-1.37-1.37c-.4-.4-.92-.59-1.43-.59-.52 0-1.04.2-1.43.59L10.3 9.45l-7.72 7.72c-.78.78-.78 2.05 0 2.83L4 21.41c.39.39.9.59 1.41.59.51 0 1.02-.2 1.41-.59l7.78-7.78 2.81-2.81c.8-.78.8-2.07 0-2.86zM5.41 20L4 18.59l7.72-7.72 1.47 1.35L5.41 20z\"/>\n",
              "  </svg>\n",
              "      </button>\n",
              "      \n",
              "  <style>\n",
              "    .colab-df-container {\n",
              "      display:flex;\n",
              "      flex-wrap:wrap;\n",
              "      gap: 12px;\n",
              "    }\n",
              "\n",
              "    .colab-df-convert {\n",
              "      background-color: #E8F0FE;\n",
              "      border: none;\n",
              "      border-radius: 50%;\n",
              "      cursor: pointer;\n",
              "      display: none;\n",
              "      fill: #1967D2;\n",
              "      height: 32px;\n",
              "      padding: 0 0 0 0;\n",
              "      width: 32px;\n",
              "    }\n",
              "\n",
              "    .colab-df-convert:hover {\n",
              "      background-color: #E2EBFA;\n",
              "      box-shadow: 0px 1px 2px rgba(60, 64, 67, 0.3), 0px 1px 3px 1px rgba(60, 64, 67, 0.15);\n",
              "      fill: #174EA6;\n",
              "    }\n",
              "\n",
              "    [theme=dark] .colab-df-convert {\n",
              "      background-color: #3B4455;\n",
              "      fill: #D2E3FC;\n",
              "    }\n",
              "\n",
              "    [theme=dark] .colab-df-convert:hover {\n",
              "      background-color: #434B5C;\n",
              "      box-shadow: 0px 1px 3px 1px rgba(0, 0, 0, 0.15);\n",
              "      filter: drop-shadow(0px 1px 2px rgba(0, 0, 0, 0.3));\n",
              "      fill: #FFFFFF;\n",
              "    }\n",
              "  </style>\n",
              "\n",
              "      <script>\n",
              "        const buttonEl =\n",
              "          document.querySelector('#df-452e5acf-2c54-44da-9e4d-cae19443256e button.colab-df-convert');\n",
              "        buttonEl.style.display =\n",
              "          google.colab.kernel.accessAllowed ? 'block' : 'none';\n",
              "\n",
              "        async function convertToInteractive(key) {\n",
              "          const element = document.querySelector('#df-452e5acf-2c54-44da-9e4d-cae19443256e');\n",
              "          const dataTable =\n",
              "            await google.colab.kernel.invokeFunction('convertToInteractive',\n",
              "                                                     [key], {});\n",
              "          if (!dataTable) return;\n",
              "\n",
              "          const docLinkHtml = 'Like what you see? Visit the ' +\n",
              "            '<a target=\"_blank\" href=https://colab.research.google.com/notebooks/data_table.ipynb>data table notebook</a>'\n",
              "            + ' to learn more about interactive tables.';\n",
              "          element.innerHTML = '';\n",
              "          dataTable['output_type'] = 'display_data';\n",
              "          await google.colab.output.renderOutput(dataTable, element);\n",
              "          const docLink = document.createElement('div');\n",
              "          docLink.innerHTML = docLinkHtml;\n",
              "          element.appendChild(docLink);\n",
              "        }\n",
              "      </script>\n",
              "    </div>\n",
              "  </div>\n",
              "  "
            ]
          },
          "metadata": {},
          "execution_count": 13
        }
      ]
    },
    {
      "cell_type": "code",
      "source": [
        "chr = df.news[1452] \n",
        "chr"
      ],
      "metadata": {
        "id": "eKv_m355Py_f",
        "colab": {
          "base_uri": "https://localhost:8080/",
          "height": 0
        },
        "outputId": "5aafa4ab-e855-4537-adba-95628b964998"
      },
      "execution_count": 14,
      "outputs": [
        {
          "output_type": "execute_result",
          "data": {
            "text/plain": [
              "'b\\'SFA awaits report over Mikoliunas\\\\n\\\\nThe Scottish Football Association is awaiting referee Hugh Dallas\\\\\\'s report before acting against Hearts winger Saulius Mikoliunas.\\\\n\\\\nMikoliunas, 20, barged linesman Andy Davis, who had advised Dallas to award Rangers an injury-time penalty in Hearts\\\\\\'s 2-1 defeat at Tynecastle. \"He was sent off for violent conduct in the 90th minute but we don\\\\\\'t know if he did something else after the whistle. \"We don\\\\\\'t know how many red cards he was shown,\" said an SFA statement. Hearts could also face action after three fans were arrested for throwing coins on the pitch. Rangers\\\\\\' striker Dad Prso was also sent off during the same incident when he received a second yellow card for wrestling the ball away from Craig Gordon and leaving the Hearts keeper on the ground. The SFA said: \"Once the referee\\\\\\'s report comes in then we\\\\\\'ll immediately look at things.\\\\n\\\\n\"We don\\\\\\'t normally get the reports until a couple of days after the game but we\\\\\\'re well aware of what happened here. \"Prso was sent off for two cautions, and that will just be a one-match suspension.\" The SFA is certain to come down hard on Mikoliunas after Southampton\\\\\\'s David Prutton was banned for 10-games on Wednesday by the English FA for shoving referee Alan Wiley. Hearts\\\\\\' boss John Robertson said: \"Mikoliunas has thrown his chest against the assistant referee\\\\\\'s chest and got a red card for it. \"The officials have got to take into account the fact he\\\\\\'s a young lad. \"But people have got to take into account why he was incensed. Why were 10,000 Hearts fans incensed? \"Why did nobody from the Rangers\\\\\\' bench claim for a penalty kick?\" Rangers\\\\\\' boss Alex McLeish accepted referee Dallas had no option but to send Prso off. McLeish said: \"I\\\\\\'m glad to see the spirit of the players fighting to the very end - literally with Dado trying to get the ball back from Craig Gordon. \"But it was over-zealousness and I don\\\\\\'t think Hugh had any option.\"\\\\n\\''"
            ],
            "application/vnd.google.colaboratory.intrinsic+json": {
              "type": "string"
            }
          },
          "metadata": {},
          "execution_count": 14
        }
      ]
    },
    {
      "cell_type": "code",
      "source": [
        "# Removing HTML Tag\n",
        "import re\n",
        "def remove_html_tags(text):\n",
        "\thtml_pattern = r'<.*?>'\n",
        "\twithout_html = re.sub(pattern=html_pattern, repl=' ', string=text)\n",
        "\treturn without_html"
      ],
      "metadata": {
        "id": "ydohFwX1QCf3"
      },
      "execution_count": 15,
      "outputs": []
    },
    {
      "cell_type": "code",
      "source": [
        "df['news']=df['news'].apply(remove_html_tags)"
      ],
      "metadata": {
        "id": "Ba2q40nbTPW9"
      },
      "execution_count": 16,
      "outputs": []
    },
    {
      "cell_type": "code",
      "source": [
        "#removing URLs\n",
        "def remove_urls(text):\n",
        "  url_pattern = r'https?://\\S+|www\\.\\S+' \n",
        "  without_urls = re.sub(pattern = url_pattern, repl = ' ', string = text )\n",
        "  return without_urls "
      ],
      "metadata": {
        "id": "5Thy2o7MNv86"
      },
      "execution_count": 17,
      "outputs": []
    },
    {
      "cell_type": "code",
      "source": [
        "df['news']=df['news'].apply(remove_urls)"
      ],
      "metadata": {
        "id": "gHlmZsANp-ah"
      },
      "execution_count": 18,
      "outputs": []
    },
    {
      "cell_type": "code",
      "source": [
        "# Removing numbers\n",
        "def remove_numbers(text):\n",
        "\tnumber_pattern = r'\\d+'\n",
        "\twithout_number = re.sub(pattern=number_pattern, repl=\" \", string=text)\n",
        "\treturn without_number"
      ],
      "metadata": {
        "id": "Wk93qVz8MI8G"
      },
      "execution_count": 19,
      "outputs": []
    },
    {
      "cell_type": "code",
      "source": [
        "df['news']=df['news'].apply(remove_numbers)"
      ],
      "metadata": {
        "id": "i0sbVetbM6DG"
      },
      "execution_count": 20,
      "outputs": []
    },
    {
      "cell_type": "code",
      "source": [
        "# Removing single Charecter\n",
        "def remove_single_char(text):\n",
        "\tsingle_char_pattern = r'\\s+[a-zA-Z]\\s+'\n",
        "\twithout_sc = re.sub(pattern=single_char_pattern, repl=\" \", string=text)\n",
        "\treturn without_sc"
      ],
      "metadata": {
        "id": "oIZ1CwNRM_Wz"
      },
      "execution_count": 21,
      "outputs": []
    },
    {
      "cell_type": "code",
      "source": [
        "df['news']=df['news'].apply(remove_single_char)"
      ],
      "metadata": {
        "id": "GwGHSP0mPaLN"
      },
      "execution_count": 22,
      "outputs": []
    },
    {
      "cell_type": "code",
      "source": [
        "import nltk\n",
        "\n",
        "from nltk.corpus import stopwords\n",
        "nltk.download('stopwords')\n"
      ],
      "metadata": {
        "id": "dDkprW_HQWMZ",
        "colab": {
          "base_uri": "https://localhost:8080/"
        },
        "outputId": "c0686979-c070-4310-8522-994b0055310e"
      },
      "execution_count": 23,
      "outputs": [
        {
          "output_type": "stream",
          "name": "stdout",
          "text": [
            "[nltk_data] Downloading package stopwords to /root/nltk_data...\n",
            "[nltk_data]   Unzipping corpora/stopwords.zip.\n"
          ]
        },
        {
          "output_type": "execute_result",
          "data": {
            "text/plain": [
              "True"
            ]
          },
          "metadata": {},
          "execution_count": 23
        }
      ]
    },
    {
      "cell_type": "code",
      "source": [
        "stop_list=list(stopwords.words('english'))\n",
        "stop_list.append('would')\n",
        "stop_list.append('could')\n",
        "stop_list.append('say')\n",
        "# stop_list"
      ],
      "metadata": {
        "id": "XnKYWRZjQChK"
      },
      "execution_count": 24,
      "outputs": []
    },
    {
      "cell_type": "code",
      "source": [
        "import string\n",
        "# Removing StopWord\n",
        "def Change_text(msg):\n",
        "  punc=[char for char in msg if str(char) not in string.punctuation]\n",
        "  no_punc=''.join(punc)\n",
        "  main_text=[word for word in no_punc.split() if word.lower() not in stop_list]\n",
        "  return ' '.join(main_text)"
      ],
      "metadata": {
        "id": "l_RoJ8e3QvSa"
      },
      "execution_count": 25,
      "outputs": []
    },
    {
      "cell_type": "code",
      "source": [
        "# Doing Lemmatization\n",
        "def lemmatization(texts):\n",
        "  sentence=''\n",
        "  allowed_postags=['NOUN','ADJ','VERB','ADV']\n",
        "  texts_out=[]\n",
        "  doc=nlp(texts)\n",
        "  texts_out.append([token.lemma_ for token in doc if token.pos_ in allowed_postags])\n",
        "  return ' '.join(texts_out[0])"
      ],
      "metadata": {
        "id": "JOX2LdTCnWBF"
      },
      "execution_count": 26,
      "outputs": []
    },
    {
      "cell_type": "code",
      "source": [
        "import spacy\n",
        "nltk.download('stopwords')\n"
      ],
      "metadata": {
        "colab": {
          "base_uri": "https://localhost:8080/"
        },
        "id": "mJIUxBMEyzgD",
        "outputId": "567e7c57-c14c-42d2-cb03-e7c5bb366af3"
      },
      "execution_count": 27,
      "outputs": [
        {
          "output_type": "stream",
          "name": "stdout",
          "text": [
            "[nltk_data] Downloading package stopwords to /root/nltk_data...\n",
            "[nltk_data]   Package stopwords is already up-to-date!\n"
          ]
        },
        {
          "output_type": "execute_result",
          "data": {
            "text/plain": [
              "True"
            ]
          },
          "metadata": {},
          "execution_count": 27
        }
      ]
    },
    {
      "cell_type": "code",
      "source": [
        "\n",
        "df['news']=df['news'].apply(Change_text)\n",
        "nlp=spacy.load('en',disable=['parser', 'ner'])\n",
        "df['news']=df['news'].apply(lemmatization)"
      ],
      "metadata": {
        "id": "CQe93xbYxszX"
      },
      "execution_count": 28,
      "outputs": []
    },
    {
      "cell_type": "code",
      "source": [
        "df"
      ],
      "metadata": {
        "colab": {
          "base_uri": "https://localhost:8080/",
          "height": 0
        },
        "id": "NlyrG7b_ywJd",
        "outputId": "a65c757b-deaf-40b2-d9ec-23870c3773a6"
      },
      "execution_count": 29,
      "outputs": [
        {
          "output_type": "execute_result",
          "data": {
            "text/plain": [
              "                                                   news      type\n",
              "0     bsluggish economy hit german number people wor...  business\n",
              "1     gain dollar hit high level almost month head s...  business\n",
              "2     keep tight rein creditnnchina effort stop econ...  business\n",
              "3     user lose patiencenncustomer try call centre g...  business\n",
              "4     bhigh fuel price hit ba profitsnnbritish blame...  business\n",
              "...                                                 ...       ...\n",
              "2217  phone act date toolsnntechnologie email net ch...      tech\n",
              "2219  bnet fingerprint combat attacksnneighty large ...      tech\n",
              "2220  virus spot writer trading interest distribute ...      tech\n",
              "2223  woman sue ink woman sue say printer ink cartri...      tech\n",
              "2224  fast wifi near completionnnultra high speed wi...      tech\n",
              "\n",
              "[2127 rows x 2 columns]"
            ],
            "text/html": [
              "\n",
              "  <div id=\"df-6ad5150d-9a2c-4b0f-9e02-6c027746a8c8\">\n",
              "    <div class=\"colab-df-container\">\n",
              "      <div>\n",
              "<style scoped>\n",
              "    .dataframe tbody tr th:only-of-type {\n",
              "        vertical-align: middle;\n",
              "    }\n",
              "\n",
              "    .dataframe tbody tr th {\n",
              "        vertical-align: top;\n",
              "    }\n",
              "\n",
              "    .dataframe thead th {\n",
              "        text-align: right;\n",
              "    }\n",
              "</style>\n",
              "<table border=\"1\" class=\"dataframe\">\n",
              "  <thead>\n",
              "    <tr style=\"text-align: right;\">\n",
              "      <th></th>\n",
              "      <th>news</th>\n",
              "      <th>type</th>\n",
              "    </tr>\n",
              "  </thead>\n",
              "  <tbody>\n",
              "    <tr>\n",
              "      <th>0</th>\n",
              "      <td>bsluggish economy hit german number people wor...</td>\n",
              "      <td>business</td>\n",
              "    </tr>\n",
              "    <tr>\n",
              "      <th>1</th>\n",
              "      <td>gain dollar hit high level almost month head s...</td>\n",
              "      <td>business</td>\n",
              "    </tr>\n",
              "    <tr>\n",
              "      <th>2</th>\n",
              "      <td>keep tight rein creditnnchina effort stop econ...</td>\n",
              "      <td>business</td>\n",
              "    </tr>\n",
              "    <tr>\n",
              "      <th>3</th>\n",
              "      <td>user lose patiencenncustomer try call centre g...</td>\n",
              "      <td>business</td>\n",
              "    </tr>\n",
              "    <tr>\n",
              "      <th>4</th>\n",
              "      <td>bhigh fuel price hit ba profitsnnbritish blame...</td>\n",
              "      <td>business</td>\n",
              "    </tr>\n",
              "    <tr>\n",
              "      <th>...</th>\n",
              "      <td>...</td>\n",
              "      <td>...</td>\n",
              "    </tr>\n",
              "    <tr>\n",
              "      <th>2217</th>\n",
              "      <td>phone act date toolsnntechnologie email net ch...</td>\n",
              "      <td>tech</td>\n",
              "    </tr>\n",
              "    <tr>\n",
              "      <th>2219</th>\n",
              "      <td>bnet fingerprint combat attacksnneighty large ...</td>\n",
              "      <td>tech</td>\n",
              "    </tr>\n",
              "    <tr>\n",
              "      <th>2220</th>\n",
              "      <td>virus spot writer trading interest distribute ...</td>\n",
              "      <td>tech</td>\n",
              "    </tr>\n",
              "    <tr>\n",
              "      <th>2223</th>\n",
              "      <td>woman sue ink woman sue say printer ink cartri...</td>\n",
              "      <td>tech</td>\n",
              "    </tr>\n",
              "    <tr>\n",
              "      <th>2224</th>\n",
              "      <td>fast wifi near completionnnultra high speed wi...</td>\n",
              "      <td>tech</td>\n",
              "    </tr>\n",
              "  </tbody>\n",
              "</table>\n",
              "<p>2127 rows × 2 columns</p>\n",
              "</div>\n",
              "      <button class=\"colab-df-convert\" onclick=\"convertToInteractive('df-6ad5150d-9a2c-4b0f-9e02-6c027746a8c8')\"\n",
              "              title=\"Convert this dataframe to an interactive table.\"\n",
              "              style=\"display:none;\">\n",
              "        \n",
              "  <svg xmlns=\"http://www.w3.org/2000/svg\" height=\"24px\"viewBox=\"0 0 24 24\"\n",
              "       width=\"24px\">\n",
              "    <path d=\"M0 0h24v24H0V0z\" fill=\"none\"/>\n",
              "    <path d=\"M18.56 5.44l.94 2.06.94-2.06 2.06-.94-2.06-.94-.94-2.06-.94 2.06-2.06.94zm-11 1L8.5 8.5l.94-2.06 2.06-.94-2.06-.94L8.5 2.5l-.94 2.06-2.06.94zm10 10l.94 2.06.94-2.06 2.06-.94-2.06-.94-.94-2.06-.94 2.06-2.06.94z\"/><path d=\"M17.41 7.96l-1.37-1.37c-.4-.4-.92-.59-1.43-.59-.52 0-1.04.2-1.43.59L10.3 9.45l-7.72 7.72c-.78.78-.78 2.05 0 2.83L4 21.41c.39.39.9.59 1.41.59.51 0 1.02-.2 1.41-.59l7.78-7.78 2.81-2.81c.8-.78.8-2.07 0-2.86zM5.41 20L4 18.59l7.72-7.72 1.47 1.35L5.41 20z\"/>\n",
              "  </svg>\n",
              "      </button>\n",
              "      \n",
              "  <style>\n",
              "    .colab-df-container {\n",
              "      display:flex;\n",
              "      flex-wrap:wrap;\n",
              "      gap: 12px;\n",
              "    }\n",
              "\n",
              "    .colab-df-convert {\n",
              "      background-color: #E8F0FE;\n",
              "      border: none;\n",
              "      border-radius: 50%;\n",
              "      cursor: pointer;\n",
              "      display: none;\n",
              "      fill: #1967D2;\n",
              "      height: 32px;\n",
              "      padding: 0 0 0 0;\n",
              "      width: 32px;\n",
              "    }\n",
              "\n",
              "    .colab-df-convert:hover {\n",
              "      background-color: #E2EBFA;\n",
              "      box-shadow: 0px 1px 2px rgba(60, 64, 67, 0.3), 0px 1px 3px 1px rgba(60, 64, 67, 0.15);\n",
              "      fill: #174EA6;\n",
              "    }\n",
              "\n",
              "    [theme=dark] .colab-df-convert {\n",
              "      background-color: #3B4455;\n",
              "      fill: #D2E3FC;\n",
              "    }\n",
              "\n",
              "    [theme=dark] .colab-df-convert:hover {\n",
              "      background-color: #434B5C;\n",
              "      box-shadow: 0px 1px 3px 1px rgba(0, 0, 0, 0.15);\n",
              "      filter: drop-shadow(0px 1px 2px rgba(0, 0, 0, 0.3));\n",
              "      fill: #FFFFFF;\n",
              "    }\n",
              "  </style>\n",
              "\n",
              "      <script>\n",
              "        const buttonEl =\n",
              "          document.querySelector('#df-6ad5150d-9a2c-4b0f-9e02-6c027746a8c8 button.colab-df-convert');\n",
              "        buttonEl.style.display =\n",
              "          google.colab.kernel.accessAllowed ? 'block' : 'none';\n",
              "\n",
              "        async function convertToInteractive(key) {\n",
              "          const element = document.querySelector('#df-6ad5150d-9a2c-4b0f-9e02-6c027746a8c8');\n",
              "          const dataTable =\n",
              "            await google.colab.kernel.invokeFunction('convertToInteractive',\n",
              "                                                     [key], {});\n",
              "          if (!dataTable) return;\n",
              "\n",
              "          const docLinkHtml = 'Like what you see? Visit the ' +\n",
              "            '<a target=\"_blank\" href=https://colab.research.google.com/notebooks/data_table.ipynb>data table notebook</a>'\n",
              "            + ' to learn more about interactive tables.';\n",
              "          element.innerHTML = '';\n",
              "          dataTable['output_type'] = 'display_data';\n",
              "          await google.colab.output.renderOutput(dataTable, element);\n",
              "          const docLink = document.createElement('div');\n",
              "          docLink.innerHTML = docLinkHtml;\n",
              "          element.appendChild(docLink);\n",
              "        }\n",
              "      </script>\n",
              "    </div>\n",
              "  </div>\n",
              "  "
            ]
          },
          "metadata": {},
          "execution_count": 29
        }
      ]
    },
    {
      "cell_type": "code",
      "source": [
        "df.news[0]"
      ],
      "metadata": {
        "id": "Lww6b1fX1CPE",
        "outputId": "8e3a767d-88ab-409d-9d0a-afe6c11b71a3",
        "colab": {
          "base_uri": "https://localhost:8080/",
          "height": 0
        }
      },
      "execution_count": 30,
      "outputs": [
        {
          "output_type": "execute_result",
          "data": {
            "text/plain": [
              "'bsluggish economy hit german number people work europe large economy rise tenth straight month growth remain stubbornly slownngerman unemployment rise people workforce seasonally adjust rise show small rise expect government measure encourage job creation begin take effect official say stagnant growth still stifle job market clear sign revival domestic demand say head statement growth third quarter still insufficient deliver positive momentum labour market high oil price soar damage competitiveness exporter also negative effect say brunt unemployment still feel eastern part rate unemployment stick year government put job creation top agenda controversial package measure shake incentive get back work pay cut cherished benefit spark anger german worker strike number industry notably countrys iconic carmaker demonstrate displeasure fear job loss outsource take hold new initiative socalle job top unemployment benefit scheme formal launch hiring position already take place affect unemployment statistic economist say deterioration labour market come surprise say creation measure probably prevent strong increase seasonally adjust'"
            ],
            "application/vnd.google.colaboratory.intrinsic+json": {
              "type": "string"
            }
          },
          "metadata": {},
          "execution_count": 30
        }
      ]
    },
    {
      "cell_type": "markdown",
      "source": [
        "## Data Preprocessing"
      ],
      "metadata": {
        "id": "6WEzDG0Htqo5"
      }
    },
    {
      "cell_type": "code",
      "source": [
        "'''\n",
        "Loading Gensim and nltk libraries\n",
        "'''\n",
        "# !pip install gensim\n",
        "import gensim\n",
        "from gensim.utils import simple_preprocess\n",
        "from gensim.parsing.preprocessing import STOPWORDS\n",
        "from nltk.stem import WordNetLemmatizer, SnowballStemmer\n",
        "from nltk.stem.porter import *\n",
        "import numpy as np\n",
        "np.random.seed(400)"
      ],
      "metadata": {
        "id": "y68ICuYgtwtJ"
      },
      "execution_count": 31,
      "outputs": []
    },
    {
      "cell_type": "code",
      "source": [
        "import nltk\n",
        "nltk.download('wordnet')"
      ],
      "metadata": {
        "colab": {
          "base_uri": "https://localhost:8080/"
        },
        "id": "1zgz-gVJtzMy",
        "outputId": "1694ad4c-06c5-45c1-e144-28a336dbf3b2"
      },
      "execution_count": 32,
      "outputs": [
        {
          "output_type": "stream",
          "name": "stdout",
          "text": [
            "[nltk_data] Downloading package wordnet to /root/nltk_data...\n",
            "[nltk_data]   Unzipping corpora/wordnet.zip.\n"
          ]
        },
        {
          "output_type": "execute_result",
          "data": {
            "text/plain": [
              "True"
            ]
          },
          "metadata": {},
          "execution_count": 32
        }
      ]
    },
    {
      "cell_type": "code",
      "source": [
        " \n",
        "print(WordNetLemmatizer().lemmatize('brunt', pos = 'v')) # past tense to present tense\n"
      ],
      "metadata": {
        "colab": {
          "base_uri": "https://localhost:8080/"
        },
        "id": "eEJUyfBHv7Y0",
        "outputId": "3bfc9933-451b-41bf-8170-baaaf94c4e9b"
      },
      "execution_count": 33,
      "outputs": [
        {
          "output_type": "stream",
          "name": "stdout",
          "text": [
            "brunt\n"
          ]
        }
      ]
    },
    {
      "cell_type": "code",
      "source": [
        "stemmer = SnowballStemmer(\"english\")\n",
        "\n",
        "original_words = ['competitiveness']\n",
        "\n",
        "singles = [stemmer.stem(plural) for plural in original_words]\n",
        "\n",
        "pd.DataFrame(data={'original word':original_words, 'stemmed':singles })\n"
      ],
      "metadata": {
        "colab": {
          "base_uri": "https://localhost:8080/",
          "height": 81
        },
        "id": "6VlWyI9twQgu",
        "outputId": "602a22ca-0876-4e3a-ec3b-1806c7f5f421"
      },
      "execution_count": 34,
      "outputs": [
        {
          "output_type": "execute_result",
          "data": {
            "text/plain": [
              "     original word   stemmed\n",
              "0  competitiveness  competit"
            ],
            "text/html": [
              "\n",
              "  <div id=\"df-95b44550-ea09-4f78-b358-d27df2930957\">\n",
              "    <div class=\"colab-df-container\">\n",
              "      <div>\n",
              "<style scoped>\n",
              "    .dataframe tbody tr th:only-of-type {\n",
              "        vertical-align: middle;\n",
              "    }\n",
              "\n",
              "    .dataframe tbody tr th {\n",
              "        vertical-align: top;\n",
              "    }\n",
              "\n",
              "    .dataframe thead th {\n",
              "        text-align: right;\n",
              "    }\n",
              "</style>\n",
              "<table border=\"1\" class=\"dataframe\">\n",
              "  <thead>\n",
              "    <tr style=\"text-align: right;\">\n",
              "      <th></th>\n",
              "      <th>original word</th>\n",
              "      <th>stemmed</th>\n",
              "    </tr>\n",
              "  </thead>\n",
              "  <tbody>\n",
              "    <tr>\n",
              "      <th>0</th>\n",
              "      <td>competitiveness</td>\n",
              "      <td>competit</td>\n",
              "    </tr>\n",
              "  </tbody>\n",
              "</table>\n",
              "</div>\n",
              "      <button class=\"colab-df-convert\" onclick=\"convertToInteractive('df-95b44550-ea09-4f78-b358-d27df2930957')\"\n",
              "              title=\"Convert this dataframe to an interactive table.\"\n",
              "              style=\"display:none;\">\n",
              "        \n",
              "  <svg xmlns=\"http://www.w3.org/2000/svg\" height=\"24px\"viewBox=\"0 0 24 24\"\n",
              "       width=\"24px\">\n",
              "    <path d=\"M0 0h24v24H0V0z\" fill=\"none\"/>\n",
              "    <path d=\"M18.56 5.44l.94 2.06.94-2.06 2.06-.94-2.06-.94-.94-2.06-.94 2.06-2.06.94zm-11 1L8.5 8.5l.94-2.06 2.06-.94-2.06-.94L8.5 2.5l-.94 2.06-2.06.94zm10 10l.94 2.06.94-2.06 2.06-.94-2.06-.94-.94-2.06-.94 2.06-2.06.94z\"/><path d=\"M17.41 7.96l-1.37-1.37c-.4-.4-.92-.59-1.43-.59-.52 0-1.04.2-1.43.59L10.3 9.45l-7.72 7.72c-.78.78-.78 2.05 0 2.83L4 21.41c.39.39.9.59 1.41.59.51 0 1.02-.2 1.41-.59l7.78-7.78 2.81-2.81c.8-.78.8-2.07 0-2.86zM5.41 20L4 18.59l7.72-7.72 1.47 1.35L5.41 20z\"/>\n",
              "  </svg>\n",
              "      </button>\n",
              "      \n",
              "  <style>\n",
              "    .colab-df-container {\n",
              "      display:flex;\n",
              "      flex-wrap:wrap;\n",
              "      gap: 12px;\n",
              "    }\n",
              "\n",
              "    .colab-df-convert {\n",
              "      background-color: #E8F0FE;\n",
              "      border: none;\n",
              "      border-radius: 50%;\n",
              "      cursor: pointer;\n",
              "      display: none;\n",
              "      fill: #1967D2;\n",
              "      height: 32px;\n",
              "      padding: 0 0 0 0;\n",
              "      width: 32px;\n",
              "    }\n",
              "\n",
              "    .colab-df-convert:hover {\n",
              "      background-color: #E2EBFA;\n",
              "      box-shadow: 0px 1px 2px rgba(60, 64, 67, 0.3), 0px 1px 3px 1px rgba(60, 64, 67, 0.15);\n",
              "      fill: #174EA6;\n",
              "    }\n",
              "\n",
              "    [theme=dark] .colab-df-convert {\n",
              "      background-color: #3B4455;\n",
              "      fill: #D2E3FC;\n",
              "    }\n",
              "\n",
              "    [theme=dark] .colab-df-convert:hover {\n",
              "      background-color: #434B5C;\n",
              "      box-shadow: 0px 1px 3px 1px rgba(0, 0, 0, 0.15);\n",
              "      filter: drop-shadow(0px 1px 2px rgba(0, 0, 0, 0.3));\n",
              "      fill: #FFFFFF;\n",
              "    }\n",
              "  </style>\n",
              "\n",
              "      <script>\n",
              "        const buttonEl =\n",
              "          document.querySelector('#df-95b44550-ea09-4f78-b358-d27df2930957 button.colab-df-convert');\n",
              "        buttonEl.style.display =\n",
              "          google.colab.kernel.accessAllowed ? 'block' : 'none';\n",
              "\n",
              "        async function convertToInteractive(key) {\n",
              "          const element = document.querySelector('#df-95b44550-ea09-4f78-b358-d27df2930957');\n",
              "          const dataTable =\n",
              "            await google.colab.kernel.invokeFunction('convertToInteractive',\n",
              "                                                     [key], {});\n",
              "          if (!dataTable) return;\n",
              "\n",
              "          const docLinkHtml = 'Like what you see? Visit the ' +\n",
              "            '<a target=\"_blank\" href=https://colab.research.google.com/notebooks/data_table.ipynb>data table notebook</a>'\n",
              "            + ' to learn more about interactive tables.';\n",
              "          element.innerHTML = '';\n",
              "          dataTable['output_type'] = 'display_data';\n",
              "          await google.colab.output.renderOutput(dataTable, element);\n",
              "          const docLink = document.createElement('div');\n",
              "          docLink.innerHTML = docLinkHtml;\n",
              "          element.appendChild(docLink);\n",
              "        }\n",
              "      </script>\n",
              "    </div>\n",
              "  </div>\n",
              "  "
            ]
          },
          "metadata": {},
          "execution_count": 34
        }
      ]
    },
    {
      "cell_type": "code",
      "source": [
        "'''\n",
        "Write a function to perform the pre processing steps on the entire dataset\n",
        "'''\n",
        "def lemmatize_stemming(text):\n",
        "    return stemmer.stem(WordNetLemmatizer().lemmatize(text, pos='v'))\n",
        "\n",
        "# Tokenize and lemmatize\n",
        "def preprocess(text):\n",
        "    \n",
        "    result = []\n",
        "    \n",
        "    for token in gensim.utils.simple_preprocess(text) :\n",
        "  \n",
        "        \n",
        "        if token not in gensim.parsing.preprocessing.STOPWORDS and len(token) > 3:\n",
        "            \n",
        "            # TODO: Apply lemmatize_stemming() on the token, then add to the results list\n",
        "            result.append(lemmatize_stemming(token))\n",
        "    \n",
        "    return result\n"
      ],
      "metadata": {
        "id": "uVbbpPHPxOHc"
      },
      "execution_count": 35,
      "outputs": []
    },
    {
      "cell_type": "code",
      "source": [
        "def lemmatize_stemming(text):\n",
        "  return stemmer.stem(WordNetLemmatizer().lemmatize(text,pos = 'v'))\n",
        "\n",
        "def preprocess(text):\n",
        "\n",
        "  '''\n",
        "    function to perform the pre processing steps on the entire dataset\n",
        "  '''\n",
        "\n",
        "  result = []\n",
        "  for token in gensim.utils.simple_preprocess(text):\n",
        "\n",
        "    if token not in gensim.parsing.preprocessing.STOPWORDS and len(token) > 3:\n",
        " \n",
        "      # TODO: Apply lemmatize_stemming() on the token, then add to the results list\n",
        "\n",
        "      result.append(lemmatize_stemming(token))\n",
        "  \n",
        " \n",
        "  return result"
      ],
      "metadata": {
        "id": "cWH6XPQ6xDSt"
      },
      "execution_count": 36,
      "outputs": []
    },
    {
      "cell_type": "code",
      "source": [
        "preprocess(df.news[1])"
      ],
      "metadata": {
        "colab": {
          "base_uri": "https://localhost:8080/"
        },
        "id": "TAEN9kVM_Cwg",
        "outputId": "2b5d48ed-779e-4d54-d6f4-2af5ce416031"
      },
      "execution_count": 37,
      "outputs": [
        {
          "output_type": "execute_result",
          "data": {
            "text/plain": [
              "['gain',\n",
              " 'dollar',\n",
              " 'high',\n",
              " 'level',\n",
              " 'month',\n",
              " 'head',\n",
              " 'trade',\n",
              " 'deficit',\n",
              " 'highlight',\n",
              " 'govern',\n",
              " 'willing',\n",
              " 'curb',\n",
              " 'spend',\n",
              " 'rise',\n",
              " 'household',\n",
              " 'save',\n",
              " 'factor',\n",
              " 'help',\n",
              " 'reduc',\n",
              " 'late',\n",
              " 'trade',\n",
              " 'dollar',\n",
              " 'reach',\n",
              " 'concern',\n",
              " 'deficit',\n",
              " 'greenback',\n",
              " 'recent',\n",
              " 'month',\n",
              " 'chairman',\n",
              " 'speech',\n",
              " 'ahead',\n",
              " 'meet',\n",
              " 'financ',\n",
              " 'minist',\n",
              " 'send',\n",
              " 'dollar',\n",
              " 'higher',\n",
              " 'earlier',\n",
              " 'tumbl',\n",
              " 'datum',\n",
              " 'think',\n",
              " 'sanguin',\n",
              " 'view',\n",
              " 'current',\n",
              " 'account',\n",
              " 'deficit',\n",
              " 'time',\n",
              " 'head',\n",
              " 'currenc',\n",
              " 'strategi',\n",
              " 'longerterm',\n",
              " 'view',\n",
              " 'condit',\n",
              " 'current',\n",
              " 'account',\n",
              " 'deficit',\n",
              " 'improv',\n",
              " 'year',\n",
              " 'nextnnworri',\n",
              " 'deficit',\n",
              " 'concern',\n",
              " 'remain',\n",
              " 'currenc',\n",
              " 'remain',\n",
              " 'dollar',\n",
              " 'currenc',\n",
              " 'sharp',\n",
              " 'fall',\n",
              " 'recent',\n",
              " 'month',\n",
              " 'chines',\n",
              " 'export',\n",
              " 'price',\n",
              " 'high',\n",
              " 'competit',\n",
              " 'shift',\n",
              " 'beij',\n",
              " 'polici',\n",
              " 'fall',\n",
              " 'deaf',\n",
              " 'recent',\n",
              " 'comment',\n",
              " 'major',\n",
              " 'chines',\n",
              " 'newspap',\n",
              " 'time',\n",
              " 'ripe',\n",
              " 'meet',\n",
              " 'think',\n",
              " 'unlik',\n",
              " 'produc',\n",
              " 'meaning',\n",
              " 'movement',\n",
              " 'chines',\n",
              " 'polici',\n",
              " 'meantim',\n",
              " 'decis',\n",
              " 'boost',\n",
              " 'rate',\n",
              " 'quarter',\n",
              " 'point',\n",
              " 'sixth',\n",
              " 'month',\n",
              " 'open',\n",
              " 'differenti',\n",
              " 'european',\n",
              " 'rate',\n",
              " 'halfpoint',\n",
              " 'window',\n",
              " 'believ',\n",
              " 'asset',\n",
              " 'look',\n",
              " 'attract',\n",
              " 'help',\n",
              " 'dollar',\n",
              " 'recent',\n",
              " 'fall',\n",
              " 'part',\n",
              " 'result',\n",
              " 'budget',\n",
              " 'deficit',\n",
              " 'yawn',\n",
              " 'current',\n",
              " 'account',\n",
              " 'need',\n",
              " 'fund',\n",
              " 'bond',\n",
              " 'asset',\n",
              " 'foreign',\n",
              " 'firm',\n",
              " 'govern',\n",
              " 'announc',\n",
              " 'budget',\n",
              " 'comment',\n",
              " 'believ',\n",
              " 'deficit',\n",
              " 'remain',\n",
              " 'close',\n",
              " 'dollarsn']"
            ]
          },
          "metadata": {},
          "execution_count": 37
        }
      ]
    },
    {
      "cell_type": "code",
      "source": [
        "df.iloc[0]"
      ],
      "metadata": {
        "colab": {
          "base_uri": "https://localhost:8080/"
        },
        "id": "Au1rBXdaKdBG",
        "outputId": "50fdbb4e-0d3f-4e7b-8c0c-d019436b01f8"
      },
      "execution_count": 38,
      "outputs": [
        {
          "output_type": "execute_result",
          "data": {
            "text/plain": [
              "news    bsluggish economy hit german number people wor...\n",
              "type                                             business\n",
              "Name: 0, dtype: object"
            ]
          },
          "metadata": {},
          "execution_count": 38
        }
      ]
    },
    {
      "cell_type": "code",
      "source": [
        "document_num = 0\n",
        "df.iloc[0].values[0][0]\n"
      ],
      "metadata": {
        "colab": {
          "base_uri": "https://localhost:8080/",
          "height": 35
        },
        "id": "9AL18MsVJhwO",
        "outputId": "4ce87ba6-25a0-42f8-8f5f-0f005f5f9728"
      },
      "execution_count": 39,
      "outputs": [
        {
          "output_type": "execute_result",
          "data": {
            "text/plain": [
              "'b'"
            ],
            "application/vnd.google.colaboratory.intrinsic+json": {
              "type": "string"
            }
          },
          "metadata": {},
          "execution_count": 39
        }
      ]
    },
    {
      "cell_type": "code",
      "source": [
        " '''\n",
        "Preview a document after preprocessing\n",
        "'''\n",
        "document_num = 1\n",
        "doc_sample =  df.news[document_num]\n",
        "\n",
        "print(\"Original document: \")\n",
        "\n",
        "words = []\n",
        "\n",
        "for word in doc_sample.split(' '):\n",
        "    words.append(word)\n",
        "    \n",
        "print(words)\n",
        "print(\"\\n\\nTokenized and lemmatized document: \")\n",
        "print(preprocess(doc_sample))"
      ],
      "metadata": {
        "colab": {
          "base_uri": "https://localhost:8080/"
        },
        "id": "1duFcNU2BCMa",
        "outputId": "3568405f-d15f-4c4a-a0f6-52c95deb294c"
      },
      "execution_count": 40,
      "outputs": [
        {
          "output_type": "stream",
          "name": "stdout",
          "text": [
            "Original document: \n",
            "['gain', 'dollar', 'hit', 'high', 'level', 'almost', 'month', 'head', 'say', 'trade', 'deficit', 'set', 'highlight', 'government', 'willingness', 'curb', 'spend', 'rise', 'household', 'saving', 'factor', 'may', 'help', 'reduce', 'late', 'trading', 'dollar', 'reach', 'concern', 'deficit', 'hit', 'greenback', 'recent', 'month', 'chairman', 'speech', 'ahead', 'meet', 'finance', 'minister', 'send', 'dollar', 'higher', 'earlier', 'tumble', 'back', 'worsethanexpecte', 'job', 'datum', 'think', 'take', 'much', 'sanguine', 'view', 'current', 'account', 'deficit', 's', 'take', 'time', 'say', 'head', 'currency', 'strategy', 's', 'take', 'longerterm', 'view', 'lay', 'set', 'condition', 'current', 'account', 'deficit', 'improve', 'year', 'nextnnworrie', 'deficit', 'concern', 'however', 'remain', 'currency', 'remain', 'peg', 'dollar', 'currencys', 'sharp', 'fall', 'recent', 'month', 'therefore', 'make', 'chinese', 'export', 'price', 'highly', 'competitive', 'call', 'shift', 'beijing', 'policy', 'fall', 'deaf', 'ear', 'recent', 'comment', 'major', 'chinese', 'newspaper', 'time', 'ripe', 'meeting', 'think', 'unlikely', 'produce', 'meaningful', 'movement', 'chinese', 'policy', 'meantime', 'decision', 'boost', 'interest', 'rate', 'quarter', 'point', 'sixth', 'move', 'many', 'month', 'open', 'differential', 'european', 'rate', 'halfpoint', 'window', 'believe', 'enough', 'keep', 'asset', 'look', 'attractive', 'help', 'dollar', 'recent', 'fall', 'partly', 'result', 'big', 'budget', 'deficit', 'us', 'yawn', 'current', 'account', 'gap', 'need', 'fund', 'buy', 'bond', 'asset', 'foreign', 'firm', 'government', 'announce', 'budget', 'many', 'commentator', 'believe', 'deficit', 'remain', 'close', 'dollarsn']\n",
            "\n",
            "\n",
            "Tokenized and lemmatized document: \n",
            "['gain', 'dollar', 'high', 'level', 'month', 'head', 'trade', 'deficit', 'highlight', 'govern', 'willing', 'curb', 'spend', 'rise', 'household', 'save', 'factor', 'help', 'reduc', 'late', 'trade', 'dollar', 'reach', 'concern', 'deficit', 'greenback', 'recent', 'month', 'chairman', 'speech', 'ahead', 'meet', 'financ', 'minist', 'send', 'dollar', 'higher', 'earlier', 'tumbl', 'datum', 'think', 'sanguin', 'view', 'current', 'account', 'deficit', 'time', 'head', 'currenc', 'strategi', 'longerterm', 'view', 'condit', 'current', 'account', 'deficit', 'improv', 'year', 'nextnnworri', 'deficit', 'concern', 'remain', 'currenc', 'remain', 'dollar', 'currenc', 'sharp', 'fall', 'recent', 'month', 'chines', 'export', 'price', 'high', 'competit', 'shift', 'beij', 'polici', 'fall', 'deaf', 'recent', 'comment', 'major', 'chines', 'newspap', 'time', 'ripe', 'meet', 'think', 'unlik', 'produc', 'meaning', 'movement', 'chines', 'polici', 'meantim', 'decis', 'boost', 'rate', 'quarter', 'point', 'sixth', 'month', 'open', 'differenti', 'european', 'rate', 'halfpoint', 'window', 'believ', 'asset', 'look', 'attract', 'help', 'dollar', 'recent', 'fall', 'part', 'result', 'budget', 'deficit', 'yawn', 'current', 'account', 'need', 'fund', 'bond', 'asset', 'foreign', 'firm', 'govern', 'announc', 'budget', 'comment', 'believ', 'deficit', 'remain', 'close', 'dollarsn']\n"
          ]
        }
      ]
    },
    {
      "cell_type": "code",
      "source": [
        "df_process = df.copy()"
      ],
      "metadata": {
        "id": "WX2IQ0ytPOyn"
      },
      "execution_count": 41,
      "outputs": []
    },
    {
      "cell_type": "code",
      "source": [
        "# TODO: preprocess all the headlines, saving the list of results as 'processed_docs'\n",
        "\n",
        "df_process.news = df.news.map(preprocess)"
      ],
      "metadata": {
        "id": "1rGRlULsOuNf"
      },
      "execution_count": 42,
      "outputs": []
    },
    {
      "cell_type": "code",
      "source": [
        ""
      ],
      "metadata": {
        "id": "C7r9MGxmPWaV"
      },
      "execution_count": 42,
      "outputs": []
    },
    {
      "cell_type": "code",
      "source": [
        "index = 6\n",
        "\n",
        "print(len(df_process.news[index]))\n",
        "\n",
        "print(len(df.news[index]))"
      ],
      "metadata": {
        "colab": {
          "base_uri": "https://localhost:8080/"
        },
        "id": "Ag1B7U8oPdXh",
        "outputId": "863e0654-449e-47bf-d09e-4986d14eaace"
      },
      "execution_count": 43,
      "outputs": [
        {
          "output_type": "stream",
          "name": "stdout",
          "text": [
            "92\n",
            "780\n"
          ]
        }
      ]
    },
    {
      "cell_type": "markdown",
      "source": [
        "> **creating dictionary**"
      ],
      "metadata": {
        "id": "683w1GUQQ3kP"
      }
    },
    {
      "cell_type": "code",
      "source": [
        " "
      ],
      "metadata": {
        "id": "-rnQdxlFRUHl"
      },
      "execution_count": 43,
      "outputs": []
    },
    {
      "cell_type": "code",
      "source": [
        "dictionary = gensim.corpora.Dictionary(df_process.news) "
      ],
      "metadata": {
        "id": "wqXbisD5Q3IG"
      },
      "execution_count": 44,
      "outputs": []
    },
    {
      "cell_type": "code",
      "source": [
        "print(dictionary)"
      ],
      "metadata": {
        "colab": {
          "base_uri": "https://localhost:8080/"
        },
        "id": "jmHjb2fDRWaD",
        "outputId": "33b328f8-f573-476b-891f-3180c0d2d6be"
      },
      "execution_count": 45,
      "outputs": [
        {
          "output_type": "stream",
          "name": "stdout",
          "text": [
            "Dictionary(14648 unique tokens: ['adjust', 'affect', 'agenda', 'anger', 'begin']...)\n"
          ]
        }
      ]
    },
    {
      "cell_type": "code",
      "source": [
        "'''\n",
        "Checking dictionary created\n",
        "'''\n",
        "count = 0\n",
        "c = 0\n",
        "for k, v in dictionary.iteritems():\n",
        "    c+=1\n",
        "    print(k, v)\n",
        "    \n",
        "    count += 1\n",
        "    \n",
        "    if count > 10:\n",
        "        break"
      ],
      "metadata": {
        "colab": {
          "base_uri": "https://localhost:8080/"
        },
        "id": "v51XG73hRh_4",
        "outputId": "d8eec7c7-db18-4990-ba32-876dd29d810d"
      },
      "execution_count": 46,
      "outputs": [
        {
          "output_type": "stream",
          "name": "stdout",
          "text": [
            "0 adjust\n",
            "1 affect\n",
            "2 agenda\n",
            "3 anger\n",
            "4 begin\n",
            "5 benefit\n",
            "6 brunt\n",
            "7 bsluggish\n",
            "8 carmak\n",
            "9 cherish\n",
            "10 clear\n"
          ]
        }
      ]
    },
    {
      "cell_type": "code",
      "source": [
        "'''\n",
        "OPTIONAL STEP\n",
        "Remove very rare and very common words:\n",
        "\n",
        "- words appearing less than 5 times\n",
        "- words appearing in more than 50% of all documents\n",
        "'''\n",
        "# TODO: apply dictionary.filter_extremes() with the parameters mentioned above\n",
        "dictionary.filter_extremes(no_below=5, no_above=0.5, keep_n=100000)\n"
      ],
      "metadata": {
        "id": "x8uDgSVGfM9q"
      },
      "execution_count": 47,
      "outputs": []
    },
    {
      "cell_type": "code",
      "source": [
        "bow_corpus = [dictionary.doc2bow(doc) for doc in df_process.news]\n",
        " "
      ],
      "metadata": {
        "id": "6BcPbR-GfMyU"
      },
      "execution_count": 48,
      "outputs": []
    },
    {
      "cell_type": "code",
      "source": [
        "bow_corpus[0]"
      ],
      "metadata": {
        "colab": {
          "base_uri": "https://localhost:8080/"
        },
        "id": "7tK_Rl_gf0w8",
        "outputId": "6594ac0f-cdfd-40ec-f92d-acb3337d659c"
      },
      "execution_count": 49,
      "outputs": [
        {
          "output_type": "execute_result",
          "data": {
            "text/plain": [
              "[(0, 2),\n",
              " (1, 1),\n",
              " (2, 1),\n",
              " (3, 1),\n",
              " (4, 1),\n",
              " (5, 2),\n",
              " (6, 1),\n",
              " (7, 1),\n",
              " (8, 1),\n",
              " (9, 1),\n",
              " (10, 1),\n",
              " (11, 1),\n",
              " (12, 3),\n",
              " (13, 1),\n",
              " (14, 1),\n",
              " (15, 1),\n",
              " (16, 1),\n",
              " (17, 1),\n",
              " (18, 1),\n",
              " (19, 1),\n",
              " (20, 2),\n",
              " (21, 1),\n",
              " (22, 2),\n",
              " (23, 1),\n",
              " (24, 1),\n",
              " (25, 1),\n",
              " (26, 1),\n",
              " (27, 1),\n",
              " (28, 1),\n",
              " (29, 1),\n",
              " (30, 2),\n",
              " (31, 2),\n",
              " (32, 3),\n",
              " (33, 1),\n",
              " (34, 1),\n",
              " (35, 1),\n",
              " (36, 1),\n",
              " (37, 1),\n",
              " (38, 1),\n",
              " (39, 1),\n",
              " (40, 1),\n",
              " (41, 1),\n",
              " (42, 2),\n",
              " (43, 1),\n",
              " (44, 1),\n",
              " (45, 1),\n",
              " (46, 3),\n",
              " (47, 3),\n",
              " (48, 1),\n",
              " (49, 1),\n",
              " (50, 1),\n",
              " (51, 1),\n",
              " (52, 2),\n",
              " (53, 1),\n",
              " (54, 1),\n",
              " (55, 1),\n",
              " (56, 2),\n",
              " (57, 1),\n",
              " (58, 2),\n",
              " (59, 1),\n",
              " (60, 1),\n",
              " (61, 1),\n",
              " (62, 1),\n",
              " (63, 1),\n",
              " (64, 1),\n",
              " (65, 1),\n",
              " (66, 4),\n",
              " (67, 1),\n",
              " (68, 2),\n",
              " (69, 1),\n",
              " (70, 1),\n",
              " (71, 1),\n",
              " (72, 1),\n",
              " (73, 1),\n",
              " (74, 1),\n",
              " (75, 1),\n",
              " (76, 1),\n",
              " (77, 1),\n",
              " (78, 1),\n",
              " (79, 1),\n",
              " (80, 1),\n",
              " (81, 1),\n",
              " (82, 1),\n",
              " (83, 5),\n",
              " (84, 2),\n",
              " (85, 1),\n",
              " (86, 1)]"
            ]
          },
          "metadata": {},
          "execution_count": 49
        }
      ]
    },
    {
      "cell_type": "code",
      "source": [
        "'''\n",
        "Preview BOW for our sample preprocessed document\n",
        "'''\n",
        "# Here document_num is document number 4310 which we have checked in Step 2\n",
        "bow_doc_4310 = bow_corpus[0]\n",
        "\n",
        "for i in range(len(bow_doc_4310)):\n",
        "    \n",
        "    print(\"Word {} (\\\"{}\\\") appears {} time.\".format(bow_doc_4310[i][0], \n",
        "                                     dictionary[bow_doc_4310[i][0]], \n",
        "                                    bow_doc_4310[i][1]))"
      ],
      "metadata": {
        "colab": {
          "base_uri": "https://localhost:8080/"
        },
        "id": "NQ7J5_iwgKQT",
        "outputId": "033fa661-8f33-4f21-8b97-b80a9c1af0cb"
      },
      "execution_count": 50,
      "outputs": [
        {
          "output_type": "stream",
          "name": "stdout",
          "text": [
            "Word 0 (\"adjust\") appears 2 time.\n",
            "Word 1 (\"affect\") appears 1 time.\n",
            "Word 2 (\"agenda\") appears 1 time.\n",
            "Word 3 (\"anger\") appears 1 time.\n",
            "Word 4 (\"begin\") appears 1 time.\n",
            "Word 5 (\"benefit\") appears 2 time.\n",
            "Word 6 (\"carmak\") appears 1 time.\n",
            "Word 7 (\"clear\") appears 1 time.\n",
            "Word 8 (\"come\") appears 1 time.\n",
            "Word 9 (\"competit\") appears 1 time.\n",
            "Word 10 (\"controversi\") appears 1 time.\n",
            "Word 11 (\"countri\") appears 1 time.\n",
            "Word 12 (\"creation\") appears 3 time.\n",
            "Word 13 (\"damag\") appears 1 time.\n",
            "Word 14 (\"deliv\") appears 1 time.\n",
            "Word 15 (\"demand\") appears 1 time.\n",
            "Word 16 (\"demonstr\") appears 1 time.\n",
            "Word 17 (\"deterior\") appears 1 time.\n",
            "Word 18 (\"domest\") appears 1 time.\n",
            "Word 19 (\"eastern\") appears 1 time.\n",
            "Word 20 (\"economi\") appears 2 time.\n",
            "Word 21 (\"economist\") appears 1 time.\n",
            "Word 22 (\"effect\") appears 2 time.\n",
            "Word 23 (\"encourag\") appears 1 time.\n",
            "Word 24 (\"europ\") appears 1 time.\n",
            "Word 25 (\"expect\") appears 1 time.\n",
            "Word 26 (\"export\") appears 1 time.\n",
            "Word 27 (\"fear\") appears 1 time.\n",
            "Word 28 (\"feel\") appears 1 time.\n",
            "Word 29 (\"formal\") appears 1 time.\n",
            "Word 30 (\"german\") appears 2 time.\n",
            "Word 31 (\"govern\") appears 2 time.\n",
            "Word 32 (\"growth\") appears 3 time.\n",
            "Word 33 (\"head\") appears 1 time.\n",
            "Word 34 (\"high\") appears 1 time.\n",
            "Word 35 (\"hire\") appears 1 time.\n",
            "Word 36 (\"hold\") appears 1 time.\n",
            "Word 37 (\"icon\") appears 1 time.\n",
            "Word 38 (\"incent\") appears 1 time.\n",
            "Word 39 (\"increas\") appears 1 time.\n",
            "Word 40 (\"industri\") appears 1 time.\n",
            "Word 41 (\"initi\") appears 1 time.\n",
            "Word 42 (\"labour\") appears 2 time.\n",
            "Word 43 (\"larg\") appears 1 time.\n",
            "Word 44 (\"launch\") appears 1 time.\n",
            "Word 45 (\"loss\") appears 1 time.\n",
            "Word 46 (\"market\") appears 3 time.\n",
            "Word 47 (\"measur\") appears 3 time.\n",
            "Word 48 (\"momentum\") appears 1 time.\n",
            "Word 49 (\"month\") appears 1 time.\n",
            "Word 50 (\"negat\") appears 1 time.\n",
            "Word 51 (\"notabl\") appears 1 time.\n",
            "Word 52 (\"number\") appears 2 time.\n",
            "Word 53 (\"offici\") appears 1 time.\n",
            "Word 54 (\"outsourc\") appears 1 time.\n",
            "Word 55 (\"packag\") appears 1 time.\n",
            "Word 56 (\"peopl\") appears 2 time.\n",
            "Word 57 (\"place\") appears 1 time.\n",
            "Word 58 (\"posit\") appears 2 time.\n",
            "Word 59 (\"prevent\") appears 1 time.\n",
            "Word 60 (\"price\") appears 1 time.\n",
            "Word 61 (\"probabl\") appears 1 time.\n",
            "Word 62 (\"quarter\") appears 1 time.\n",
            "Word 63 (\"rate\") appears 1 time.\n",
            "Word 64 (\"remain\") appears 1 time.\n",
            "Word 65 (\"reviv\") appears 1 time.\n",
            "Word 66 (\"rise\") appears 4 time.\n",
            "Word 67 (\"scheme\") appears 1 time.\n",
            "Word 68 (\"season\") appears 2 time.\n",
            "Word 69 (\"shake\") appears 1 time.\n",
            "Word 70 (\"sign\") appears 1 time.\n",
            "Word 71 (\"small\") appears 1 time.\n",
            "Word 72 (\"soar\") appears 1 time.\n",
            "Word 73 (\"socall\") appears 1 time.\n",
            "Word 74 (\"spark\") appears 1 time.\n",
            "Word 75 (\"statement\") appears 1 time.\n",
            "Word 76 (\"statist\") appears 1 time.\n",
            "Word 77 (\"stick\") appears 1 time.\n",
            "Word 78 (\"stifl\") appears 1 time.\n",
            "Word 79 (\"straight\") appears 1 time.\n",
            "Word 80 (\"strike\") appears 1 time.\n",
            "Word 81 (\"strong\") appears 1 time.\n",
            "Word 82 (\"surpris\") appears 1 time.\n",
            "Word 83 (\"unemploy\") appears 5 time.\n",
            "Word 84 (\"work\") appears 2 time.\n",
            "Word 85 (\"worker\") appears 1 time.\n",
            "Word 86 (\"workforc\") appears 1 time.\n"
          ]
        }
      ]
    },
    {
      "cell_type": "markdown",
      "source": [
        "> **TF-IDF on our document set**"
      ],
      "metadata": {
        "id": "UtQ_YrknnyK3"
      }
    },
    {
      "cell_type": "code",
      "source": [
        "'''\n",
        "Create tf-idf model object using models.\n",
        "TfidfModel on 'bow_corpus' and save it to 'tfidf'\n",
        "'''\n",
        "from gensim import corpora, models\n",
        "\n",
        "# TODO\n",
        "tfidf = models.TfidfModel(bow_corpus)\n",
        "print(tfidf)\n"
      ],
      "metadata": {
        "colab": {
          "base_uri": "https://localhost:8080/"
        },
        "id": "ZqiOYUq6ix63",
        "outputId": "db5679e9-f9db-4c48-e152-0cd7d07b2caa"
      },
      "execution_count": 51,
      "outputs": [
        {
          "output_type": "stream",
          "name": "stdout",
          "text": [
            "TfidfModel(num_docs=2127, num_nnz=171039)\n"
          ]
        }
      ]
    },
    {
      "cell_type": "code",
      "source": [
        "'''\n",
        "Apply transformation to the entire corpus and call it 'corpus_tfidf'\n",
        "'''\n",
        "# TODO\n",
        "corpus_tfidf = tfidf[bow_corpus]\n",
        "print(corpus_tfidf[1])"
      ],
      "metadata": {
        "colab": {
          "base_uri": "https://localhost:8080/"
        },
        "id": "b2sjQHDp9UXX",
        "outputId": "6c60ece9-1ecd-4488-aef7-6d882726fe94"
      },
      "execution_count": 53,
      "outputs": [
        {
          "output_type": "stream",
          "name": "stdout",
          "text": [
            "[(9, 0.049500713956409655), (26, 0.06600774063521814), (31, 0.05885386959244517), (33, 0.09320524060749633), (34, 0.06669011469471978), (49, 0.1100658667400016), (60, 0.04502785869702502), (62, 0.05383485071377029), (63, 0.10105774977577525), (64, 0.11859121899875888), (66, 0.037533935512503336), (87, 0.15788333732625925), (88, 0.046220804120602074), (89, 0.04064428974804473), (90, 0.14581011990258086), (91, 0.06384513406057522), (92, 0.07099140997933505), (93, 0.09074202482366624), (94, 0.0521137831632876), (95, 0.12769026812115045), (96, 0.05275836421908786), (97, 0.24203316172561776), (98, 0.03939542438483376), (99, 0.10105774977577525), (100, 0.08780388002144586), (101, 0.06872062324404181), (102, 0.09931003047989514), (103, 0.24203316172561776), (104, 0.10632122733103197), (105, 0.05796505244045353), (106, 0.04035996237737882), (107, 0.5349188668844769), (108, 0.11767684321121033), (109, 0.3094664695748456), (110, 0.06652173658068362), (111, 0.04972467990142878), (112, 0.07152211553603408), (113, 0.12044799798378658), (114, 0.06108329508229227), (115, 0.031721500608037405), (116, 0.053697085611044575), (117, 0.05262777910875308), (118, 0.059011102479359895), (119, 0.06418370565089493), (120, 0.11191032984697366), (121, 0.0681478773212399), (122, 0.07684806735173569), (123, 0.04748926455583414), (124, 0.037842797456052464), (125, 0.04485047042834302), (126, 0.02823580757243299), (127, 0.039666303419843875), (128, 0.12133143205951959), (129, 0.10954939910351644), (130, 0.07470175444313236), (131, 0.04432753441759334), (132, 0.08121227874871123), (133, 0.030262253308320452), (134, 0.059372278801190594), (135, 0.035943650860829124), (136, 0.08176148415965538), (137, 0.0386688467224161), (138, 0.1042275663265752), (139, 0.04502785869702502), (140, 0.04415621078025099), (141, 0.1408829539577761), (142, 0.05617850894987432), (143, 0.040860213669468286), (144, 0.11458693236708206), (145, 0.05848125462042052), (146, 0.04906015240787461), (147, 0.08121227874871123), (148, 0.08290720990640617), (149, 0.08015704861184589), (150, 0.06626309113991535), (151, 0.04100546606987543), (152, 0.07185900991238409), (153, 0.05400494147906983), (154, 0.039302098199796555), (155, 0.1012928794063209), (156, 0.10217845019147032), (157, 0.0684322046919058), (158, 0.10739417122208915), (159, 0.11191032984697366), (160, 0.08679901742322098)]\n"
          ]
        }
      ]
    },
    {
      "cell_type": "code",
      "source": [
        "'''\n",
        "Preview TF-IDF scores for our first document --> --> (token_id, tfidf score)\n",
        "'''\n",
        "from pprint import pprint\n",
        "\n",
        "for doc in corpus_tfidf:\n",
        "    \n",
        "    pprint(doc)\n",
        "    \n",
        "    break"
      ],
      "metadata": {
        "colab": {
          "base_uri": "https://localhost:8080/"
        },
        "id": "fire3DPS9kua",
        "outputId": "52fec579-b131-4de2-8316-7d26764a1ab2"
      },
      "execution_count": 54,
      "outputs": [
        {
          "output_type": "stream",
          "name": "stdout",
          "text": [
            "[(0, 0.19890680310598233),\n",
            " (1, 0.06637704068618801),\n",
            " (2, 0.09509910930183535),\n",
            " (3, 0.104820697457052),\n",
            " (4, 0.04994783476077181),\n",
            " (5, 0.1301496542114395),\n",
            " (6, 0.104820697457052),\n",
            " (7, 0.0480510686934501),\n",
            " (8, 0.02349690947050931),\n",
            " (9, 0.05718077562866587),\n",
            " (10, 0.06816670590739149),\n",
            " (11, 0.038982830553052475),\n",
            " (12, 0.2937275491534637),\n",
            " (13, 0.06489463400961329),\n",
            " (14, 0.06676296121957359),\n",
            " (15, 0.05372198731863849),\n",
            " (16, 0.08778563027972604),\n",
            " (17, 0.11471803367416988),\n",
            " (18, 0.07624887613421685),\n",
            " (19, 0.11631554263909769),\n",
            " (20, 0.1125947661723699),\n",
            " (21, 0.07972069466180391),\n",
            " (22, 0.1130927214216692),\n",
            " (23, 0.07247114949345469),\n",
            " (24, 0.11181991914960802),\n",
            " (25, 0.033020870855193354),\n",
            " (26, 0.07624887613421685),\n",
            " (27, 0.062835082011607),\n",
            " (28, 0.049760346319448395),\n",
            " (29, 0.08980035226180696),\n",
            " (30, 0.154903976186011),\n",
            " (31, 0.0679850782557977),\n",
            " (32, 0.16116596195591548),\n",
            " (33, 0.05383304122932718),\n",
            " (34, 0.03851856044305582),\n",
            " (35, 0.11049643345373233),\n",
            " (36, 0.04006277894489243),\n",
            " (37, 0.09945340155299116),\n",
            " (38, 0.11049643345373233),\n",
            " (39, 0.042522851474552245),\n",
            " (40, 0.04957436382563893),\n",
            " (41, 0.06599744700467386),\n",
            " (42, 0.16523761837273152),\n",
            " (43, 0.0476214701739998),\n",
            " (44, 0.052429296541509275),\n",
            " (45, 0.07010637208309682),\n",
            " (46, 0.11765551138087754),\n",
            " (47, 0.199131122058564),\n",
            " (48, 0.10692712132529984),\n",
            " (49, 0.031785660889542225),\n",
            " (50, 0.09717405159352388),\n",
            " (51, 0.12189957674961109),\n",
            " (52, 0.06789066559927347),\n",
            " (53, 0.05295917540822831),\n",
            " (54, 0.129273276081328),\n",
            " (55, 0.09033266756731317),\n",
            " (56, 0.04927128450381566),\n",
            " (57, 0.041002882192423006),\n",
            " (58, 0.09914872765127786),\n",
            " (59, 0.07654384440333345),\n",
            " (60, 0.05201395453530559),\n",
            " (61, 0.07375074001790491),\n",
            " (62, 0.06218735597182679),\n",
            " (63, 0.05836845626666179),\n",
            " (64, 0.045663569560292806),\n",
            " (65, 0.09790918305115458),\n",
            " (66, 0.17342938098963412),\n",
            " (67, 0.07839720896592821),\n",
            " (68, 0.11673691253332358),\n",
            " (69, 0.10289002165070539),\n",
            " (70, 0.05328302258923051),\n",
            " (71, 0.05783306372067095),\n",
            " (72, 0.09717405159352388),\n",
            " (73, 0.08638188559190813),\n",
            " (74, 0.08778563027972604),\n",
            " (75, 0.05823344307950907),\n",
            " (76, 0.09509910930183535),\n",
            " (77, 0.09087750908139779),\n",
            " (78, 0.13593446701143222),\n",
            " (79, 0.08300797290149103),\n",
            " (80, 0.07482789683749573),\n",
            " (81, 0.04605803729468132),\n",
            " (82, 0.06507482710571975),\n",
            " (83, 0.4464000005823499),\n",
            " (84, 0.06001685010155851),\n",
            " (85, 0.08112443934962182),\n",
            " (86, 0.12410645498796773)]\n"
          ]
        }
      ]
    },
    {
      "cell_type": "markdown",
      "source": [
        "> **Running LDA using Bag of Words**"
      ],
      "metadata": {
        "id": "bV8tdLEx-NSh"
      }
    },
    {
      "cell_type": "code",
      "source": [
        " "
      ],
      "metadata": {
        "id": "m1B8uK07-UL5"
      },
      "execution_count": 66,
      "outputs": []
    },
    {
      "cell_type": "code",
      "source": [
        "# LDA mono-core -- fallback code in case LdaMulticore \n",
        "# throws an error on your machine\n",
        "# lda_model = gensim.models.LdaModel(bow_corpus, \n",
        "#                                    num_topics = 10, \n",
        "#                                    id2word = dictionary,                                    \n",
        "#                                    passes = 50)\n",
        "\n",
        "# LDA multicore \n",
        "'''\n",
        "Train your lda model using gensim.models.LdaMulticore and \n",
        "save it to 'lda_model'\n",
        "'''\n",
        "lda_model = gensim.models.LdaMulticore(bow_corpus, \n",
        "                                       num_topics=10, \n",
        "                                       id2word = dictionary, \n",
        "                                       passes = 2, \n",
        "                                       workers=2)"
      ],
      "metadata": {
        "id": "pYKTJZCL_GDZ"
      },
      "execution_count": 56,
      "outputs": []
    },
    {
      "cell_type": "code",
      "source": [
        "'''\n",
        "For each topic, we will explore the words occuring in that topic\n",
        " and its relative weight\n",
        "'''\n",
        "for idx, topic in lda_model.print_topics(-1):\n",
        "    \n",
        "    print(\"Topic: {} \\nWords: {}\".format(idx, topic ))\n",
        "    print(\"\\n\")"
      ],
      "metadata": {
        "colab": {
          "base_uri": "https://localhost:8080/"
        },
        "id": "byakPlTPALNh",
        "outputId": "2b9837f7-a031-4095-f0d2-51b6fb2f61dd"
      },
      "execution_count": 57,
      "outputs": [
        {
          "output_type": "stream",
          "name": "stdout",
          "text": [
            "Topic: 0 \n",
            "Words: 0.012*\"game\" + 0.011*\"mobil\" + 0.010*\"phone\" + 0.009*\"time\" + 0.007*\"technolog\" + 0.006*\"second\" + 0.006*\"play\" + 0.005*\"come\" + 0.005*\"work\" + 0.005*\"record\"\n",
            "\n",
            "\n",
            "Topic: 1 \n",
            "Words: 0.010*\"peopl\" + 0.009*\"govern\" + 0.009*\"game\" + 0.006*\"month\" + 0.006*\"tell\" + 0.006*\"increas\" + 0.005*\"spend\" + 0.005*\"play\" + 0.005*\"rise\" + 0.005*\"come\"\n",
            "\n",
            "\n",
            "Topic: 2 \n",
            "Words: 0.009*\"music\" + 0.008*\"peopl\" + 0.006*\"report\" + 0.006*\"tell\" + 0.006*\"govern\" + 0.006*\"market\" + 0.006*\"film\" + 0.005*\"come\" + 0.005*\"think\" + 0.004*\"compani\"\n",
            "\n",
            "\n",
            "Topic: 3 \n",
            "Words: 0.013*\"peopl\" + 0.010*\"servic\" + 0.008*\"firm\" + 0.008*\"compani\" + 0.006*\"user\" + 0.006*\"phone\" + 0.005*\"work\" + 0.005*\"site\" + 0.005*\"mobil\" + 0.005*\"network\"\n",
            "\n",
            "\n",
            "Topic: 4 \n",
            "Words: 0.010*\"price\" + 0.008*\"club\" + 0.008*\"week\" + 0.007*\"rise\" + 0.007*\"number\" + 0.006*\"market\" + 0.006*\"sale\" + 0.006*\"fall\" + 0.006*\"expect\" + 0.006*\"govern\"\n",
            "\n",
            "\n",
            "Topic: 5 \n",
            "Words: 0.010*\"elect\" + 0.010*\"peopl\" + 0.009*\"govern\" + 0.007*\"parti\" + 0.006*\"plan\" + 0.006*\"work\" + 0.006*\"time\" + 0.005*\"come\" + 0.005*\"countri\" + 0.004*\"tell\"\n",
            "\n",
            "\n",
            "Topic: 6 \n",
            "Words: 0.009*\"game\" + 0.007*\"report\" + 0.007*\"sale\" + 0.006*\"think\" + 0.005*\"tell\" + 0.005*\"month\" + 0.005*\"play\" + 0.005*\"work\" + 0.005*\"time\" + 0.005*\"week\"\n",
            "\n",
            "\n",
            "Topic: 7 \n",
            "Words: 0.007*\"countri\" + 0.006*\"come\" + 0.006*\"play\" + 0.006*\"time\" + 0.005*\"want\" + 0.005*\"peopl\" + 0.005*\"world\" + 0.005*\"tell\" + 0.005*\"compani\" + 0.004*\"firm\"\n",
            "\n",
            "\n",
            "Topic: 8 \n",
            "Words: 0.015*\"good\" + 0.010*\"game\" + 0.010*\"film\" + 0.009*\"play\" + 0.008*\"peopl\" + 0.008*\"time\" + 0.007*\"award\" + 0.006*\"includ\" + 0.006*\"music\" + 0.006*\"star\"\n",
            "\n",
            "\n",
            "Topic: 9 \n",
            "Words: 0.011*\"compani\" + 0.008*\"firm\" + 0.005*\"come\" + 0.005*\"share\" + 0.005*\"product\" + 0.005*\"countri\" + 0.005*\"market\" + 0.005*\"govern\" + 0.005*\"profit\" + 0.005*\"rise\"\n",
            "\n",
            "\n"
          ]
        }
      ]
    },
    {
      "cell_type": "markdown",
      "source": [
        "Classification of the topics\n",
        "Using the words in each topic and their corresponding weights, what categories were you able to infer?\n",
        "\n",
        "0:\n",
        "\n",
        "1:\n",
        "\n",
        "2:\n",
        "\n",
        "3:\n",
        "\n",
        "4:\n",
        "\n",
        "5:\n",
        "\n",
        "6:\n",
        "\n",
        "7:\n",
        "\n",
        "8:\n",
        "\n",
        "9:"
      ],
      "metadata": {
        "id": "IKQKOyEMA1kY"
      }
    },
    {
      "cell_type": "markdown",
      "source": [
        "> **Running LDA using TF-IDF**"
      ],
      "metadata": {
        "id": "bQxGQZ94At6w"
      }
    },
    {
      "cell_type": "code",
      "source": [
        " "
      ],
      "metadata": {
        "id": "td9JBkA2Azoa"
      },
      "execution_count": 66,
      "outputs": []
    },
    {
      "cell_type": "code",
      "source": [
        "'''\n",
        "Define lda model using corpus_tfidf, \n",
        "again using gensim.models.LdaMulticore()\n",
        "'''\n",
        "lda_model_tfidf = gensim.models.LdaMulticore(corpus_tfidf, \n",
        "                                             num_topics=10, \n",
        "                                             id2word = dictionary, \n",
        "                                             passes = 2, \n",
        "                                             workers=4)"
      ],
      "metadata": {
        "id": "RjJLjyNLDhSL"
      },
      "execution_count": 63,
      "outputs": []
    },
    {
      "cell_type": "code",
      "source": [
        "'''\n",
        "For each topic, we will explore the words occuring \n",
        "in that topic and its relative weight\n",
        "'''\n",
        "for idx, topic in lda_model_tfidf.print_topics(-1):\n",
        "    \n",
        "    print(\"Topic: {} Word: {}\".format(idx, topic))\n",
        "    print(\"\\n\")"
      ],
      "metadata": {
        "colab": {
          "base_uri": "https://localhost:8080/"
        },
        "id": "yUXXtPoVEiTy",
        "outputId": "ab4be1e5-4f0e-4bc4-95fd-a9e7db298f49"
      },
      "execution_count": 65,
      "outputs": [
        {
          "output_type": "stream",
          "name": "stdout",
          "text": [
            "Topic: 0 Word: 0.003*\"mobil\" + 0.003*\"phone\" + 0.003*\"game\" + 0.003*\"broadband\" + 0.003*\"technolog\" + 0.002*\"number\" + 0.002*\"servic\" + 0.002*\"match\" + 0.002*\"play\" + 0.002*\"peopl\"\n",
            "\n",
            "\n",
            "Topic: 1 Word: 0.005*\"film\" + 0.003*\"good\" + 0.003*\"game\" + 0.002*\"award\" + 0.002*\"peopl\" + 0.002*\"site\" + 0.002*\"firm\" + 0.002*\"actor\" + 0.002*\"elect\" + 0.002*\"star\"\n",
            "\n",
            "\n",
            "Topic: 2 Word: 0.004*\"film\" + 0.003*\"game\" + 0.003*\"compani\" + 0.002*\"music\" + 0.002*\"sale\" + 0.002*\"court\" + 0.002*\"play\" + 0.002*\"firm\" + 0.002*\"peopl\" + 0.002*\"market\"\n",
            "\n",
            "\n",
            "Topic: 3 Word: 0.002*\"elect\" + 0.002*\"bank\" + 0.002*\"music\" + 0.002*\"rise\" + 0.002*\"club\" + 0.002*\"good\" + 0.002*\"parti\" + 0.002*\"market\" + 0.002*\"share\" + 0.002*\"rate\"\n",
            "\n",
            "\n",
            "Topic: 4 Word: 0.003*\"card\" + 0.002*\"game\" + 0.002*\"season\" + 0.002*\"athlet\" + 0.002*\"firm\" + 0.002*\"report\" + 0.002*\"mobil\" + 0.002*\"world\" + 0.002*\"rate\" + 0.002*\"offici\"\n",
            "\n",
            "\n",
            "Topic: 5 Word: 0.003*\"game\" + 0.003*\"compani\" + 0.002*\"music\" + 0.002*\"sale\" + 0.002*\"firm\" + 0.002*\"film\" + 0.002*\"servic\" + 0.002*\"work\" + 0.002*\"peopl\" + 0.002*\"number\"\n",
            "\n",
            "\n",
            "Topic: 6 Word: 0.003*\"game\" + 0.002*\"film\" + 0.002*\"export\" + 0.002*\"sale\" + 0.002*\"play\" + 0.002*\"music\" + 0.002*\"market\" + 0.002*\"season\" + 0.002*\"team\" + 0.002*\"firm\"\n",
            "\n",
            "\n",
            "Topic: 7 Word: 0.003*\"film\" + 0.003*\"dollar\" + 0.002*\"countri\" + 0.002*\"profit\" + 0.002*\"play\" + 0.002*\"price\" + 0.002*\"hunt\" + 0.002*\"meet\" + 0.002*\"airlin\" + 0.002*\"market\"\n",
            "\n",
            "\n",
            "Topic: 8 Word: 0.004*\"game\" + 0.003*\"play\" + 0.003*\"elect\" + 0.002*\"injuri\" + 0.002*\"player\" + 0.002*\"club\" + 0.002*\"good\" + 0.002*\"peopl\" + 0.002*\"govern\" + 0.002*\"second\"\n",
            "\n",
            "\n",
            "Topic: 9 Word: 0.004*\"film\" + 0.003*\"award\" + 0.003*\"nomin\" + 0.003*\"good\" + 0.002*\"play\" + 0.002*\"elect\" + 0.002*\"director\" + 0.002*\"star\" + 0.002*\"actor\" + 0.002*\"music\"\n",
            "\n",
            "\n"
          ]
        }
      ]
    },
    {
      "cell_type": "markdown",
      "source": [
        "**Classification of the topics**\n",
        "\n",
        "As we can see, when using tf-idf, heavier weights are given to words that are not as frequent which results in nouns being factored in. That makes it harder to figure out the categories as nouns can be hard to categorize. This goes to show that the models we apply depend on the type of corpus of text we are dealing with.\n",
        "\n",
        "Using the words in each topic and their corresponding weights, what categories could you find?\n",
        "\n",
        "0:\n",
        "1:\n",
        "2:\n",
        "3:\n",
        "4:\n",
        "5:\n",
        "6:\n",
        "7:\n",
        "8:\n",
        "9:"
      ],
      "metadata": {
        "id": "JYYqKDggGov9"
      }
    },
    {
      "cell_type": "markdown",
      "source": [
        ""
      ],
      "metadata": {
        "id": "OV6eS4_AGv5y"
      }
    },
    {
      "cell_type": "markdown",
      "source": [
        "> **Performance evaluation by classifying sample document using LDA Bag of Words model**"
      ],
      "metadata": {
        "id": "hlIyfDwbHKxv"
      }
    },
    {
      "cell_type": "code",
      "source": [
        "'''\n",
        "Check which topic our test document belongs to using the LDA Bag of Words model.\n",
        "'''\n",
        "document_num = 0\n",
        "# Our test document is document number 4310\n",
        "\n",
        "for index, score in sorted(lda_model[bow_corpus[document_num]], key=lambda tup: -1*tup[1]):\n",
        "\n",
        "    print(\"\\nScore: {}\\t \\nTopic: {}\".format(score, lda_model.print_topic(index, 10)))\n",
        " "
      ],
      "metadata": {
        "colab": {
          "base_uri": "https://localhost:8080/"
        },
        "id": "7fniJ1GxBj2g",
        "outputId": "61cd2b8f-4f0e-4c11-b798-d09da22c2d4d"
      },
      "execution_count": 68,
      "outputs": [
        {
          "output_type": "stream",
          "name": "stdout",
          "text": [
            "\n",
            "Score: 0.5009258985519409\t \n",
            "Topic: 0.010*\"peopl\" + 0.009*\"govern\" + 0.009*\"game\" + 0.006*\"month\" + 0.006*\"tell\" + 0.006*\"increas\" + 0.005*\"spend\" + 0.005*\"play\" + 0.005*\"rise\" + 0.005*\"come\"\n",
            "\n",
            "Score: 0.4189510643482208\t \n",
            "Topic: 0.011*\"compani\" + 0.008*\"firm\" + 0.005*\"come\" + 0.005*\"share\" + 0.005*\"product\" + 0.005*\"countri\" + 0.005*\"market\" + 0.005*\"govern\" + 0.005*\"profit\" + 0.005*\"rise\"\n",
            "\n",
            "Score: 0.07403475046157837\t \n",
            "Topic: 0.010*\"price\" + 0.008*\"club\" + 0.008*\"week\" + 0.007*\"rise\" + 0.007*\"number\" + 0.006*\"market\" + 0.006*\"sale\" + 0.006*\"fall\" + 0.006*\"expect\" + 0.006*\"govern\"\n"
          ]
        }
      ]
    },
    {
      "cell_type": "markdown",
      "source": [
        "> **Performance evaluation by classifying sample document using LDA TF-IDF model**"
      ],
      "metadata": {
        "id": "l4G67XJOCDwk"
      }
    },
    {
      "cell_type": "code",
      "source": [
        "'''\n",
        " Check which topic our test document belongs\n",
        " to using the LDA TF-IDF model.\n",
        "'''\n",
        "# Our test document is document number 4310\n",
        "for index, score in sorted(lda_model_tfidf[bow_corpus[document_num]], key=lambda tup: -1*tup[1]):\n",
        "\n",
        "    print(\"\\nScore: {}\\t \\nTopic: {}\".format(score, lda_model_tfidf.print_topic(index, 10)))\n",
        " "
      ],
      "metadata": {
        "colab": {
          "base_uri": "https://localhost:8080/"
        },
        "id": "KOK7p5ERCGd2",
        "outputId": "c017ea3c-3b50-4201-feb8-95b5432fa03f"
      },
      "execution_count": 66,
      "outputs": [
        {
          "output_type": "stream",
          "name": "stdout",
          "text": [
            "\n",
            "Score: 0.6848410367965698\t \n",
            "Topic: 0.004*\"game\" + 0.003*\"play\" + 0.003*\"elect\" + 0.002*\"injuri\" + 0.002*\"player\" + 0.002*\"club\" + 0.002*\"good\" + 0.002*\"peopl\" + 0.002*\"govern\" + 0.002*\"second\"\n",
            "\n",
            "Score: 0.19719085097312927\t \n",
            "Topic: 0.003*\"game\" + 0.003*\"compani\" + 0.002*\"music\" + 0.002*\"sale\" + 0.002*\"firm\" + 0.002*\"film\" + 0.002*\"servic\" + 0.002*\"work\" + 0.002*\"peopl\" + 0.002*\"number\"\n",
            "\n",
            "Score: 0.07465879619121552\t \n",
            "Topic: 0.004*\"film\" + 0.003*\"game\" + 0.003*\"compani\" + 0.002*\"music\" + 0.002*\"sale\" + 0.002*\"court\" + 0.002*\"play\" + 0.002*\"firm\" + 0.002*\"peopl\" + 0.002*\"market\"\n",
            "\n",
            "Score: 0.038090839982032776\t \n",
            "Topic: 0.003*\"film\" + 0.003*\"dollar\" + 0.002*\"countri\" + 0.002*\"profit\" + 0.002*\"play\" + 0.002*\"price\" + 0.002*\"hunt\" + 0.002*\"meet\" + 0.002*\"airlin\" + 0.002*\"market\"\n"
          ]
        }
      ]
    },
    {
      "cell_type": "markdown",
      "source": [
        "> **Testing model on unseen document**"
      ],
      "metadata": {
        "id": "hZAErOPVJZx6"
      }
    },
    {
      "cell_type": "code",
      "source": [
        "unseen_document = \"\"\"Following Congress's poor performance in the recently concluded Uttar Pradesh assembly polls, BJP MP Sushil Kumar Modi on Sunday trained his guns at Congress General Secretary Priyanka Gandhi Vadra. Taking a swipe at her women-focused election campaign in the politically vital state, he accused the grand old party of corruption and practising dynastic politics.\n",
        "\"Priyanka Gandhi Vadra said she was the face of Congress in UP and tried to mislead women with her 'I am a woman, I can fight' slogan but the people gave her just 2 seats. Despite this, no Congress leader asked for her resignation from the post of General Secretary,\" he said in Hindi on Twitter. \n",
        "\n",
        "\"A party steeped in dynasty and corruption is only pretending to introspect for many years,\" he added. \n",
        " \n",
        "Mr Modi, BJP's Rajya Sabha MP from Bihar and the state's former Deputy Chief Minister, has bitterly criticised the Congress party in a series of tweets since yesterday. \n",
        "\n",
        "In a jibe at Congress leader Sonia Gandhi and son Rahul Gandhi, who he said was the \"de-facto supremo\" of the party since there has been no full-time formal chief of the party in many years, he said that Congress has even lost the will to save the party and protect its internal democracy. \n",
        "\n",
        "Mr Modi said that Congress leaders don't have the courage to free the party of the Gandhi family even after a \"shameful\" routing in five states. \"The party will be wiped out even from Rajasthan and Chattisgarh in the next elections,\" he said. \n",
        "\n",
        "Congress interim president Sonia Gandhi along with her family members Rahul Gandhi, and Priyanka Gandhi Vadra had proposed to resign during the Congress Working Committee meeting on Sunday but the CWC unanimously rejected this, a senior party leader told news agency ANI yesterday.\n",
        "\n",
        "The CWC called the recent assembly election results of five states a \"cause of serious concern\" for the party.\n",
        "\n",
        "The Gandhi family has come under severe criticism after the party's massive rout in the recent state election, with demands of a leadership change in the party growing louder every day. Leaders of the \"G-23\" - the group of 23 \"dissenters\" who had written to Sonia Gandhi two years ago - held a meeting on Friday at the house of senior leader Ghulam Nabi Azad.\n",
        "\n",
        "6\n",
        "Comments\n",
        "Many internally predicted yet another futile exercise in the name of \"introspection\" with the Congress Working Committee - in which Gandhi \"loyalists\" easily outnumber \"dissenters\" - widely expected to steer clear of hard decisions. There are only three members from the \"G-23\" in the CWC - Anand Sharma, Ghulam Nabi Azad and Mukul Wasnik.\"\"\""
      ],
      "metadata": {
        "id": "W7Chsg7gLc03"
      },
      "execution_count": 73,
      "outputs": []
    },
    {
      "cell_type": "code",
      "source": [
        "unseen_document = \"Kyiv’s lead negotiator Mikhailo Podolyak said in a video statement posted to Twitter. The country’s Chernobyl nuclear power plant, the site of the world’s worst nuclear disaster in 1986, once again lost its electricity supply, Ukraine’s energy operator Ukrenergo said.Meanwhile, Ukrainian President Volodymyr Zelensky warned NATO that its member states would soon be attacked by Russian forces after an airstrike hit a Ukrainian military base close to the Polish border. The President urged for a no-fly zone or “Russian rockets will fall on NATO soil”.Russia has escalated attacks in western Ukraine with a deadly airstrike on a military base where its troops had trained with NATO forces, bringing the conflict closer to Poland and other members of the bloc Police in the capital of Kyiv confirmed that a U.S. video journalist died Sunday and another American journalist was injured when they were attacked by Russian forces.Meanwhile, in an interview with The Kyiv Independent on Monday, Ukrainian Health Minister Viktor Lyashko revealed that Russian forces have completely destroyed seven hospitals and damaged an additional 104 health facilities, killing six medical personnel and severely injuring 12 more since the start of the all-out war.On the other hand, Russia has expressed that the country is undeterred by the sanctions imposed on it by the United States. “Russia will not ask the US and EU member nations to lift the sanctions, as pressure from the West and around the world will not change Moscow’s course,” Russian media Sputnik reports quoted Russian Deputy Foreign Minister Sergey Vershinin.The United States has once again condemned Russia over its territorial aggression in Ukraine. “We condemn the Russian Federation’s missile attack on the International Center for Peacekeeping and Security in Yavoriv, close to Ukraine’s border with Poland. The brutality must stop,” US Secretary of State Antony Blinken said.President Joe Biden spoke with French President Emmanuel Macron to discuss Russia’s war against Ukraine. They reviewed recent diplomatic engagements and underscored their commitment to hold Russia accountable for its actions and support the govt and people of Ukraine, the White House revealed on Monday.\""
      ],
      "metadata": {
        "id": "Aq3tQWM2Kvvm"
      },
      "execution_count": 71,
      "outputs": []
    },
    {
      "cell_type": "code",
      "source": [
        "# unseen_document = \"My favorite sports activities are running and swimming.\"\n",
        "\n",
        "# Data preprocessing step for the unseen document\n",
        "bow_vector = dictionary.doc2bow(preprocess(unseen_document))\n",
        "\n",
        "for index, score in sorted(lda_model[bow_vector], key=lambda tup: -1*tup[1]):\n",
        "\n",
        "    print(\"Score: {}\\t Topic: {}\".format(score, lda_model.print_topic(index, 5)))\n",
        " "
      ],
      "metadata": {
        "colab": {
          "base_uri": "https://localhost:8080/"
        },
        "id": "V_KvUYBJJm5x",
        "outputId": "13378499-0a1b-43e9-bb2f-5a9ca66522c4"
      },
      "execution_count": 74,
      "outputs": [
        {
          "output_type": "stream",
          "name": "stdout",
          "text": [
            "Score: 0.7241026163101196\t Topic: 0.010*\"elect\" + 0.010*\"peopl\" + 0.009*\"govern\" + 0.007*\"parti\" + 0.006*\"plan\"\n",
            "Score: 0.235848531126976\t Topic: 0.009*\"music\" + 0.008*\"peopl\" + 0.006*\"report\" + 0.006*\"tell\" + 0.006*\"govern\"\n",
            "Score: 0.035047467797994614\t Topic: 0.007*\"countri\" + 0.006*\"come\" + 0.006*\"play\" + 0.006*\"time\" + 0.005*\"want\"\n"
          ]
        }
      ]
    },
    {
      "cell_type": "code",
      "source": [
        "unseen_document"
      ],
      "metadata": {
        "colab": {
          "base_uri": "https://localhost:8080/",
          "height": 35
        },
        "id": "7fGsYHIOKIwg",
        "outputId": "482ba41b-9a34-4937-c1c8-0131e9725383"
      },
      "execution_count": 70,
      "outputs": [
        {
          "output_type": "execute_result",
          "data": {
            "text/plain": [
              "'My favorite sports activities are running and swimming.'"
            ],
            "application/vnd.google.colaboratory.intrinsic+json": {
              "type": "string"
            }
          },
          "metadata": {},
          "execution_count": 70
        }
      ]
    },
    {
      "cell_type": "markdown",
      "source": [
        "# **EDA**"
      ],
      "metadata": {
        "id": "Wlxop8L5zBMA"
      }
    },
    {
      "cell_type": "code",
      "source": [
        "df_process"
      ],
      "metadata": {
        "id": "Tyi1sc8mzAy4",
        "colab": {
          "base_uri": "https://localhost:8080/",
          "height": 424
        },
        "outputId": "b7bdfcb6-fa9f-408b-e5f0-8a0506167691"
      },
      "execution_count": 52,
      "outputs": [
        {
          "output_type": "execute_result",
          "data": {
            "text/plain": [
              "                                                   news      type\n",
              "0     [bsluggish, economi, german, number, peopl, wo...  business\n",
              "1     [gain, dollar, high, level, month, head, trade...  business\n",
              "2     [tight, rein, creditnnchina, effort, stop, eco...  business\n",
              "3     [user, lose, centr, impati, quicker, survey, w...  business\n",
              "4     [bhigh, fuel, price, blame, high, fuel, price,...  business\n",
              "...                                                 ...       ...\n",
              "2217  [phone, date, email, chatroom, instant, messag...      tech\n",
              "2219  [bnet, fingerprint, combat, attacksnneighti, l...      tech\n",
              "2220  [virus, spot, writer, trade, distribut, malici...      tech\n",
              "2223  [woman, woman, printer, cartridg, secret, prog...      tech\n",
              "2224  [fast, wifi, near, high, speed, wifi, connect,...      tech\n",
              "\n",
              "[2127 rows x 2 columns]"
            ],
            "text/html": [
              "\n",
              "  <div id=\"df-4225cc8d-801b-47cf-b8d1-d33476076712\">\n",
              "    <div class=\"colab-df-container\">\n",
              "      <div>\n",
              "<style scoped>\n",
              "    .dataframe tbody tr th:only-of-type {\n",
              "        vertical-align: middle;\n",
              "    }\n",
              "\n",
              "    .dataframe tbody tr th {\n",
              "        vertical-align: top;\n",
              "    }\n",
              "\n",
              "    .dataframe thead th {\n",
              "        text-align: right;\n",
              "    }\n",
              "</style>\n",
              "<table border=\"1\" class=\"dataframe\">\n",
              "  <thead>\n",
              "    <tr style=\"text-align: right;\">\n",
              "      <th></th>\n",
              "      <th>news</th>\n",
              "      <th>type</th>\n",
              "    </tr>\n",
              "  </thead>\n",
              "  <tbody>\n",
              "    <tr>\n",
              "      <th>0</th>\n",
              "      <td>[bsluggish, economi, german, number, peopl, wo...</td>\n",
              "      <td>business</td>\n",
              "    </tr>\n",
              "    <tr>\n",
              "      <th>1</th>\n",
              "      <td>[gain, dollar, high, level, month, head, trade...</td>\n",
              "      <td>business</td>\n",
              "    </tr>\n",
              "    <tr>\n",
              "      <th>2</th>\n",
              "      <td>[tight, rein, creditnnchina, effort, stop, eco...</td>\n",
              "      <td>business</td>\n",
              "    </tr>\n",
              "    <tr>\n",
              "      <th>3</th>\n",
              "      <td>[user, lose, centr, impati, quicker, survey, w...</td>\n",
              "      <td>business</td>\n",
              "    </tr>\n",
              "    <tr>\n",
              "      <th>4</th>\n",
              "      <td>[bhigh, fuel, price, blame, high, fuel, price,...</td>\n",
              "      <td>business</td>\n",
              "    </tr>\n",
              "    <tr>\n",
              "      <th>...</th>\n",
              "      <td>...</td>\n",
              "      <td>...</td>\n",
              "    </tr>\n",
              "    <tr>\n",
              "      <th>2217</th>\n",
              "      <td>[phone, date, email, chatroom, instant, messag...</td>\n",
              "      <td>tech</td>\n",
              "    </tr>\n",
              "    <tr>\n",
              "      <th>2219</th>\n",
              "      <td>[bnet, fingerprint, combat, attacksnneighti, l...</td>\n",
              "      <td>tech</td>\n",
              "    </tr>\n",
              "    <tr>\n",
              "      <th>2220</th>\n",
              "      <td>[virus, spot, writer, trade, distribut, malici...</td>\n",
              "      <td>tech</td>\n",
              "    </tr>\n",
              "    <tr>\n",
              "      <th>2223</th>\n",
              "      <td>[woman, woman, printer, cartridg, secret, prog...</td>\n",
              "      <td>tech</td>\n",
              "    </tr>\n",
              "    <tr>\n",
              "      <th>2224</th>\n",
              "      <td>[fast, wifi, near, high, speed, wifi, connect,...</td>\n",
              "      <td>tech</td>\n",
              "    </tr>\n",
              "  </tbody>\n",
              "</table>\n",
              "<p>2127 rows × 2 columns</p>\n",
              "</div>\n",
              "      <button class=\"colab-df-convert\" onclick=\"convertToInteractive('df-4225cc8d-801b-47cf-b8d1-d33476076712')\"\n",
              "              title=\"Convert this dataframe to an interactive table.\"\n",
              "              style=\"display:none;\">\n",
              "        \n",
              "  <svg xmlns=\"http://www.w3.org/2000/svg\" height=\"24px\"viewBox=\"0 0 24 24\"\n",
              "       width=\"24px\">\n",
              "    <path d=\"M0 0h24v24H0V0z\" fill=\"none\"/>\n",
              "    <path d=\"M18.56 5.44l.94 2.06.94-2.06 2.06-.94-2.06-.94-.94-2.06-.94 2.06-2.06.94zm-11 1L8.5 8.5l.94-2.06 2.06-.94-2.06-.94L8.5 2.5l-.94 2.06-2.06.94zm10 10l.94 2.06.94-2.06 2.06-.94-2.06-.94-.94-2.06-.94 2.06-2.06.94z\"/><path d=\"M17.41 7.96l-1.37-1.37c-.4-.4-.92-.59-1.43-.59-.52 0-1.04.2-1.43.59L10.3 9.45l-7.72 7.72c-.78.78-.78 2.05 0 2.83L4 21.41c.39.39.9.59 1.41.59.51 0 1.02-.2 1.41-.59l7.78-7.78 2.81-2.81c.8-.78.8-2.07 0-2.86zM5.41 20L4 18.59l7.72-7.72 1.47 1.35L5.41 20z\"/>\n",
              "  </svg>\n",
              "      </button>\n",
              "      \n",
              "  <style>\n",
              "    .colab-df-container {\n",
              "      display:flex;\n",
              "      flex-wrap:wrap;\n",
              "      gap: 12px;\n",
              "    }\n",
              "\n",
              "    .colab-df-convert {\n",
              "      background-color: #E8F0FE;\n",
              "      border: none;\n",
              "      border-radius: 50%;\n",
              "      cursor: pointer;\n",
              "      display: none;\n",
              "      fill: #1967D2;\n",
              "      height: 32px;\n",
              "      padding: 0 0 0 0;\n",
              "      width: 32px;\n",
              "    }\n",
              "\n",
              "    .colab-df-convert:hover {\n",
              "      background-color: #E2EBFA;\n",
              "      box-shadow: 0px 1px 2px rgba(60, 64, 67, 0.3), 0px 1px 3px 1px rgba(60, 64, 67, 0.15);\n",
              "      fill: #174EA6;\n",
              "    }\n",
              "\n",
              "    [theme=dark] .colab-df-convert {\n",
              "      background-color: #3B4455;\n",
              "      fill: #D2E3FC;\n",
              "    }\n",
              "\n",
              "    [theme=dark] .colab-df-convert:hover {\n",
              "      background-color: #434B5C;\n",
              "      box-shadow: 0px 1px 3px 1px rgba(0, 0, 0, 0.15);\n",
              "      filter: drop-shadow(0px 1px 2px rgba(0, 0, 0, 0.3));\n",
              "      fill: #FFFFFF;\n",
              "    }\n",
              "  </style>\n",
              "\n",
              "      <script>\n",
              "        const buttonEl =\n",
              "          document.querySelector('#df-4225cc8d-801b-47cf-b8d1-d33476076712 button.colab-df-convert');\n",
              "        buttonEl.style.display =\n",
              "          google.colab.kernel.accessAllowed ? 'block' : 'none';\n",
              "\n",
              "        async function convertToInteractive(key) {\n",
              "          const element = document.querySelector('#df-4225cc8d-801b-47cf-b8d1-d33476076712');\n",
              "          const dataTable =\n",
              "            await google.colab.kernel.invokeFunction('convertToInteractive',\n",
              "                                                     [key], {});\n",
              "          if (!dataTable) return;\n",
              "\n",
              "          const docLinkHtml = 'Like what you see? Visit the ' +\n",
              "            '<a target=\"_blank\" href=https://colab.research.google.com/notebooks/data_table.ipynb>data table notebook</a>'\n",
              "            + ' to learn more about interactive tables.';\n",
              "          element.innerHTML = '';\n",
              "          dataTable['output_type'] = 'display_data';\n",
              "          await google.colab.output.renderOutput(dataTable, element);\n",
              "          const docLink = document.createElement('div');\n",
              "          docLink.innerHTML = docLinkHtml;\n",
              "          element.appendChild(docLink);\n",
              "        }\n",
              "      </script>\n",
              "    </div>\n",
              "  </div>\n",
              "  "
            ]
          },
          "metadata": {},
          "execution_count": 52
        }
      ]
    },
    {
      "cell_type": "code",
      "source": [
        ""
      ],
      "metadata": {
        "id": "6ay6UCu7B2tA"
      },
      "execution_count": 52,
      "outputs": []
    }
  ]
}